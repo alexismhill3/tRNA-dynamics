{
 "cells": [
  {
   "cell_type": "code",
   "execution_count": 3,
   "id": "fc5c2219-f1ec-44ae-8672-60d9497f1ab3",
   "metadata": {},
   "outputs": [],
   "source": [
    "from trnasimtools.serialize import SerializeTwoCodonMultiTranscript\n",
    "import os"
   ]
  },
  {
   "cell_type": "code",
   "execution_count": 4,
   "id": "3c818ff1-9067-486e-aed5-f93485e0d539",
   "metadata": {},
   "outputs": [],
   "source": [
    "import numpy as np\n",
    "import pandas as pd\n",
    "import seaborn as sns\n",
    "from matplotlib import rcParams\n",
    "import matplotlib.pyplot as plt\n",
    "from matplotlib.colors import LogNorm"
   ]
  },
  {
   "cell_type": "code",
   "execution_count": 5,
   "id": "75ab475c-83c1-4d9a-a92f-a12a030626db",
   "metadata": {},
   "outputs": [],
   "source": [
    "def read_sim(path_pref, seed_start=1, seed_end=3, seed_incr=1, time_limit=None):\n",
    "    \"\"\" \n",
    "    Reads in output for an arbitrary number of simulation trials \n",
    "    (with different seeds) and concatenates results into a single\n",
    "    dataset.\n",
    "    \"\"\"\n",
    "    df_master = pd.read_csv(f\"{path_pref}_{seed_start}.tsv\", sep=\"\\t\")\n",
    "    df_master[\"seed\"] = str(seed_start)\n",
    "    for i in range(seed_start+1, seed_end+1):\n",
    "        tmp = pd.read_csv(f\"{path_pref}_{i}.tsv\", sep=\"\\t\")\n",
    "        tmp[\"seed\"] = str(i)\n",
    "        df_master = df_master.append(tmp, ignore_index=True)\n",
    "    if time_limit is not None:\n",
    "        df_master = df_master[df_master.time < time_limit]\n",
    "    return df_master\n",
    "    \n",
    "def concat_sims(path_pref, max_seed):\n",
    "    df_master = pd.read_csv(f\"{path_pref}_1.tsv\", sep=\"\\t\")\n",
    "    df_master[\"seed\"] = str(1)\n",
    "    for i in range(2, max_seed+1):\n",
    "        tmp = pd.read_csv(f\"{path_pref}_{i}.tsv\", sep=\"\\t\")\n",
    "        tmp[\"seed\"] = str(i)\n",
    "        df_master = df_master.append(tmp, ignore_index=True)\n",
    "    \n",
    "    return df_master\n",
    "    \n",
    "def get_average_protein(path, perc_good, time, max_seed):\n",
    "    df_master = concat_sims(path, max_seed)\n",
    "    df_master[\"time\"] = df_master[\"time\"].apply(np.ceil)\n",
    "    tmp = df_master.groupby([\"time\", \"species\"])[\"protein\", \"ribo_density\"].mean().reset_index()\n",
    "    tmp = tmp[(tmp.time > time - 50)] # look at simulations after equilibrium is reached\n",
    "    tmp[\"ribo_density_ave\"] = tmp[(tmp.species == \"cellularProtein\")]['ribo_density'].mean()\n",
    "    tmp = tmp[(tmp.time == time)]\n",
    "    return tmp"
   ]
  },
  {
   "cell_type": "code",
   "execution_count": 19,
   "id": "ef609de3-3793-4e7b-97d5-252b2a00dc45",
   "metadata": {},
   "outputs": [],
   "source": [
    "# simulation parameters \n",
    "time_limit = 100\n",
    "time_step = 5\n",
    "transcript_lens = [1000, 300]\n",
    "cellular_transcript_copy_number = 100\n",
    "gfp_transcript_copy_number = 20\n",
    "ribosome_copy_number = 500\n",
    "total_trna = 2500\n",
    "ecol_rbs_rate = 100000.0\n",
    "ribosome_binding_rate = 0.000001 # GFP with very low binding rate as \"control\"\n",
    "trna_charging_rates = [10.0, 30.0, 100.0, 300.0, 1000.0, 3000.0, 10000.0]\n",
    "transcript_names = [\"cellularProtein\", \"GFP\"]\n",
    "trna_composition = [(0.7, 0.3)]\n",
    "gfp_mrna_compositions = [(0.7, 0.3)]\n",
    "ribosome_speed = [0.125, 0.25, 0.5, 1.0, 2.0, 4.0, 8.0]\n",
    "ribosome_footprint = 15\n",
    "\n",
    "ecol_mrna_compositions = [(0.2, 0.8), (0.4, 0.6), (0.6, 0.4), (0.7, 0.3), (0.8, 0.2), (1.0, 0)]\n",
    "date = \"june-02-2024\""
   ]
  },
  {
   "cell_type": "code",
   "execution_count": 20,
   "id": "28086f26-39fa-4217-a335-10810380cf7b",
   "metadata": {},
   "outputs": [],
   "source": [
    "!rm -r ../yaml/june-02-2024\n",
    "!mkdir ../yaml/june-02-2024"
   ]
  },
  {
   "cell_type": "code",
   "execution_count": 21,
   "id": "a4211c11-007d-418f-a66e-50e31fec051f",
   "metadata": {},
   "outputs": [],
   "source": [
    "scratch_dir = \"/scratch/07227/hilla3/output\"\n",
    "\n",
    "for trna_prop in trna_composition:\n",
    "    for comp in gfp_mrna_compositions:\n",
    "        for ecol in ecol_mrna_compositions:\n",
    "            serializer = SerializeTwoCodonMultiTranscript(transcript_lens=transcript_lens,\n",
    "                                                           codon_comps=[ecol, comp],\n",
    "                                                           trna_proportion=trna_prop,\n",
    "                                                           transcript_names=transcript_names,\n",
    "                                                           time_limit=time_limit,\n",
    "                                                           time_step=time_step)\n",
    "            serializer.serialize(f\"../yaml/{date}\")\n",
    "        \n",
    "configs = os.listdir(f\"../yaml/{date}\")\n",
    "with open(f\"../tacc/launcher/{date}.txt\", \"w\") as stream:\n",
    "    for config in configs:\n",
    "        for speed in ribosome_speed:\n",
    "            for charging_rate in trna_charging_rates:\n",
    "                for seed in range(1, 4):\n",
    "                    cmd = f\"python3 ./scripts/twocodonmultitranscript.py ./yaml/{date}/{config} {seed} {cellular_transcript_copy_number} {gfp_transcript_copy_number} \" + \\\n",
    "                      f\"{ribosome_copy_number} {total_trna} {ecol_rbs_rate} {ribosome_binding_rate} {charging_rate} {charging_rate} \" + \\\n",
    "                      f\"{scratch_dir}/{date} {speed} {ribosome_footprint}\"\n",
    "                    stream.write(cmd)\n",
    "                    stream.write(\"\\n\")"
   ]
  },
  {
   "cell_type": "code",
   "execution_count": 12,
   "id": "4645a695-9576-458e-b5cc-8b6ab9b1623f",
   "metadata": {},
   "outputs": [],
   "source": [
    "!mkdir ../output/june-02-2024"
   ]
  },
  {
   "cell_type": "code",
   "execution_count": 14,
   "id": "19cce4d1-0512-4f44-83a6-49e613ab1a06",
   "metadata": {},
   "outputs": [
    {
     "name": "stderr",
     "output_type": "stream",
     "text": [
      "/tmp/ipykernel_2944108/288491411.py:30: FutureWarning: Indexing with multiple keys (implicitly converted to a tuple of keys) will be deprecated, use a list instead.\n",
      "  tmp = df_master.groupby([\"time\", \"species\"])[\"protein\", \"ribo_density\"].mean().reset_index()\n"
     ]
    }
   ],
   "source": [
    "df_master = None\n",
    "\n",
    "for ecol_codons in ecol_mrna_compositions:\n",
    "    df_ecol = None\n",
    "    for charging_rate in trna_charging_rates:\n",
    "        df_charge = None\n",
    "        for binding_rate in ribosome_binding_rates:\n",
    "            df_binding = None\n",
    "            for codons in gfp_mrna_compositions:\n",
    "                path = f\"../output/{date}/two_codon_multi_transcript_{ecol_codons[0]}_{ecol_codons[1]}_{codons[0]}_{codons[1]}_0.7_0.3\" + \\\n",
    "                       f\"_{cellular_transcript_copy_number}_{gfp_transcript_copy_number}_{ribosome_copy_number}_{total_trna}\" + \\\n",
    "                       f\"_{ecol_rbs_rate}_{binding_rate}_{charging_rate}_{charging_rate}\"\n",
    "                tmp = get_average_protein(path, 0.5, 100, 3)\n",
    "                tmp[\"codon\"] = float(codons[0])\n",
    "                tmp[\"species\"] = tmp[\"species\"].replace({\"__ribosome\": \"free ribosome\"})\n",
    "                if df_binding is not None:\n",
    "                    df_binding = df_binding.append(tmp, ignore_index=True)\n",
    "                else:\n",
    "                    df_binding = tmp\n",
    "            df_binding[\"gfp_rbs\"] = binding_rate\n",
    "            if df_charge is not None:\n",
    "                df_charge = df_charge.append(df_binding, ignore_index=True)\n",
    "            else:\n",
    "                df_charge = df_binding\n",
    "        df_charge[\"charging_rate\"] = charging_rate\n",
    "        if df_ecol is not None:\n",
    "            df_ecol = df_ecol.append(df_charge, ignore_index=True)\n",
    "        else:\n",
    "            df_ecol = df_charge\n",
    "    df_ecol[\"ecol\"] = ecol_codons[0]\n",
    "    if df_master is not None:\n",
    "        df_master = df_master.append(df_ecol, ignore_index=True)\n",
    "    else:\n",
    "        df_master = df_ecol\n",
    "    \n",
    "\n",
    "df_master = df_master[(df_master.time == 100.0)]\n",
    "df_master[\"codon\"] = df_master[\"codon\"].div(1).round(1)"
   ]
  },
  {
   "cell_type": "code",
   "execution_count": 15,
   "id": "b0f27c30-1eb7-4220-9c16-b9ed936ba0d5",
   "metadata": {},
   "outputs": [],
   "source": [
    "df_master[\"gfp_rbs_foldx\"] = df_master[\"gfp_rbs\"] / ecol_rbs_rate\n",
    "#df = df[(df.species == \"cellularProtein\") | (df.species == \"GFP\")]\n",
    "df = df_master.pivot_table(index=['gfp_rbs_foldx', 'codon', 'charging_rate', \"ecol\"], columns='species', values='protein').reset_index()\n",
    "\n",
    "df[\"TTT_charged_perc\"] = df[\"TTT_charged\"] / (total_trna*0.7)\n",
    "df[\"ATA_charged_perc\"] = df[\"ATA_charged\"] / (total_trna*0.3)\n",
    "df[\"free_ribosome_perc\"] = df[\"free ribosome\"] / ribosome_copy_number\n",
    "\n",
    "df['cellularProtein_max'] = df.groupby(['codon', 'charging_rate', \"ecol\"])['cellularProtein'].transform('max')\n",
    "df['cellularProtein_norm'] = df['cellularProtein']/df[\"cellularProtein_max\"]\n",
    "\n",
    "#df['ATA_charged_max'] = df.groupby(['codon', 'charging_rate', \"speed\"])['ATA_charged'].transform('max')\n",
    "#df['ATA_charged_norm'] = df['ATA_charged']/df[\"ATA_charged_max\"]\n",
    "#df['TTT_charged_max'] = df.groupby(['codon', 'charging_rate', \"speed\"])['TTT_charged'].transform('max')\n",
    "#df['TTT_charged_norm'] = df['TTT_charged']/df[\"TTT_charged_max\"]\n",
    "\n",
    "df = df.rename_axis(\"index\", axis=1).reset_index(drop=True)"
   ]
  },
  {
   "cell_type": "code",
   "execution_count": 17,
   "id": "39ca98e6-de80-40c2-8f7e-c82e16b8a5cd",
   "metadata": {},
   "outputs": [],
   "source": [
    "df.to_csv(\"gfp_regression_ecol_codon_use_speed_0.5.csv\")"
   ]
  }
 ],
 "metadata": {
  "kernelspec": {
   "display_name": "Python 3 (ipykernel)",
   "language": "python",
   "name": "python3"
  },
  "language_info": {
   "codemirror_mode": {
    "name": "ipython",
    "version": 3
   },
   "file_extension": ".py",
   "mimetype": "text/x-python",
   "name": "python",
   "nbconvert_exporter": "python",
   "pygments_lexer": "ipython3",
   "version": "3.8.12"
  }
 },
 "nbformat": 4,
 "nbformat_minor": 5
}
