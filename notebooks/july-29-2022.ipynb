{
 "cells": [
  {
   "cell_type": "code",
   "execution_count": 1,
   "id": "d5864d93-9e00-46ff-91c0-6e71b3d18a25",
   "metadata": {},
   "outputs": [],
   "source": [
    "from trnasimtools.serialize import SerializeTwoCodonMultiTranscript\n",
    "import os"
   ]
  },
  {
   "cell_type": "code",
   "execution_count": 11,
   "id": "3c922381-4d24-4428-9c6c-a4c7a715dd9e",
   "metadata": {},
   "outputs": [],
   "source": [
    "from IPython.display import display, HTML\n",
    "import numpy as np\n",
    "import pandas as pd\n",
    "import seaborn as sns\n",
    "from matplotlib import rcParams\n",
    "import matplotlib.pyplot as plt\n",
    "from matplotlib.colors import LogNorm\n",
    "%matplotlib inline"
   ]
  },
  {
   "cell_type": "markdown",
   "id": "99de4bef-b2d3-44b9-b497-ff3da5657fa3",
   "metadata": {},
   "source": [
    "In Kudla et al. 2009 (Coding-sequence determinants..) the authors postulate that \"the correspondance between codon adaptation and expression level among e. coli genes arrises to make expression more efficient at a global level [under resource rich conditions]\", since rapid elongation sequesters fewer ribosomes, resulting in higher protein synthesis. \n",
    "\n",
    "My goal here is to look at this with my simple models, since (as far as I can tell) no one has looked at this quantitatively, which seems odd. We'll create a rudimentary aproximation of an E. coli cell, with two transcript populations: one highly optimized, highly expressed (high initiation rate), representing \"core\" genes, and one with modest optimation and a lower initiation rate, representing accessory/non-essential genes. In this scenario, we'll skew tRNA abundances to match the codon use of the highly optimized population.\n",
    "\n",
    "We'll contrast this with a second scenario; we'll keep the same initation rates, but we'll make codon use uniform across both populations, with no skew in tRNA abundances. We ask if scenario one really results in greater protein synthesis. "
   ]
  },
  {
   "cell_type": "code",
   "execution_count": 10,
   "id": "35ff4cf1-371f-40d2-89b3-5af179e490ed",
   "metadata": {},
   "outputs": [],
   "source": [
    "!mkdir ../yaml/july-29-2022\n",
    "#!mkdir ../output/july-29-2022"
   ]
  },
  {
   "cell_type": "code",
   "execution_count": 8,
   "id": "9dfaba50-9868-4562-8703-03f383d296c8",
   "metadata": {},
   "outputs": [],
   "source": [
    "# simulation parameters, common\n",
    "time_limit = 500\n",
    "time_step = 5\n",
    "transcript_lens = [100, 100]\n",
    "transcript_copy_numbers = [50, 50]\n",
    "ribosome_copy_number = 100\n",
    "total_trna = 100\n",
    "trna_charging_rate = 1000000.0\n",
    "transcript_names = [\"proteinX\", \"proteinY\"]\n",
    "seed = 1\n",
    "\n",
    "codon_comps_1 = [(0.8, 0.2), (0.2, 0.8)]\n",
    "ribosome_binding_rates_1 = [100000.0, 10000.0]\n",
    "trna_props_1 = (0.8, 0.2)\n",
    "\n",
    "codon_comps_2 = [(0.5, 0.5), (0.5, 0.5)]\n",
    "ribosome_binding_rates_2 = [100000.0, 10000.0]\n",
    "trna_props_2 = (0.5, 0.5)\n",
    "\n",
    "date = \"july-29-2022\""
   ]
  },
  {
   "cell_type": "code",
   "execution_count": 5,
   "id": "cd77c154-fab4-4afb-bf1e-d875036871cb",
   "metadata": {},
   "outputs": [],
   "source": [
    "serializer = SerializeTwoCodonMultiTranscript(transcript_lens=transcript_lens,\n",
    "                                                   codon_comps=codon_comps_1,\n",
    "                                                   trna_proportion=trna_props_1,\n",
    "                                                   transcript_names=transcript_names,\n",
    "                                                   time_limit=time_limit,\n",
    "                                                   time_step=time_step)\n",
    "serializer.serialize(f\"../yaml/{date}\")\n",
    "conf1 = serializer.filename()\n",
    "\n",
    "serializer = SerializeTwoCodonMultiTranscript(transcript_lens=transcript_lens,\n",
    "                                                   codon_comps=codon_comps_2,\n",
    "                                                   transcript_names=transcript_names,\n",
    "                                                   trna_proportion=trna_props_2,\n",
    "                                                   time_limit=time_limit,\n",
    "                                                   time_step=time_step)\n",
    "serializer.serialize(f\"../yaml/{date}\")\n",
    "conf2 = serializer.filename()"
   ]
  },
  {
   "cell_type": "code",
   "execution_count": 10,
   "id": "cbc5e98e-d5c1-4c80-b267-9dc9e0a445b2",
   "metadata": {},
   "outputs": [],
   "source": [
    "with open(f\"../scripts/cmd_files/{date}.txt\", \"w\") as stream:\n",
    "    cmd = f\"python3 twocodonmultitranscript.py ../yaml/{date}/{conf1} {seed} {transcript_copy_numbers[0]} {transcript_copy_numbers[1]} \" + \\\n",
    "          f\"{ribosome_copy_number} {total_trna} {ribosome_binding_rates_1[0]} {ribosome_binding_rates_1[1]} {trna_charging_rate} {trna_charging_rate} ../output/{date}\"\n",
    "    stream.write(cmd)\n",
    "    stream.write(\"\\n\")\n",
    "    cmd = f\"python3 twocodonmultitranscript.py ../yaml/{date}/{conf2} {seed} {transcript_copy_numbers[0]} {transcript_copy_numbers[1]} \" + \\\n",
    "          f\"{ribosome_copy_number} {total_trna} {ribosome_binding_rates_2[0]} {ribosome_binding_rates_2[1]} {trna_charging_rate} {trna_charging_rate} ../output/{date}\"\n",
    "    stream.write(cmd)\n",
    "    stream.write(\"\\n\")                                                                                                                             "
   ]
  },
  {
   "cell_type": "code",
   "execution_count": null,
   "id": "c165a9fa-a9d4-4875-a30c-4ced98039109",
   "metadata": {},
   "outputs": [],
   "source": []
  }
 ],
 "metadata": {
  "kernelspec": {
   "display_name": "Python 3",
   "language": "python",
   "name": "python3"
  },
  "language_info": {
   "codemirror_mode": {
    "name": "ipython",
    "version": 3
   },
   "file_extension": ".py",
   "mimetype": "text/x-python",
   "name": "python",
   "nbconvert_exporter": "python",
   "pygments_lexer": "ipython3",
   "version": "3.6.9"
  }
 },
 "nbformat": 4,
 "nbformat_minor": 5
}
