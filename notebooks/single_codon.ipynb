{
 "cells": [
  {
   "cell_type": "code",
   "execution_count": 11,
   "id": "ef335fd6-88a7-45d5-a804-b26329b52973",
   "metadata": {},
   "outputs": [],
   "source": [
    "from IPython.display import display, HTML\n",
    "import numpy as np\n",
    "import pandas as pd\n",
    "import seaborn as sns\n",
    "from matplotlib import rcParams\n",
    "import matplotlib.pyplot as plt\n",
    "from matplotlib.colors import LogNorm\n",
    "%matplotlib inline\n",
    "import math\n",
    "import os\n",
    "\n",
    "def read_sim(path_pref, seed_start=1, seed_end=3, seed_incr=1):\n",
    "    \"\"\" \n",
    "    Reads in output for an arbitrary number of simulation trials \n",
    "    (with different seeds) and concatenates results into a single\n",
    "    dataset.\n",
    "    \"\"\"\n",
    "    df_master = pd.read_csv(f\"{path_pref}_{seed_start}.tsv\", sep=\"\\t\")\n",
    "    df_master[\"seed\"] = str(seed_start)\n",
    "    for i in range(seed_start+1, seed_end+1):\n",
    "        tmp = pd.read_csv(f\"{path_pref}_{i}.tsv\", sep=\"\\t\")\n",
    "        tmp[\"seed\"] = str(i)\n",
    "        df_master = df_master.append(tmp, ignore_index=True)\n",
    "    return df_master\n",
    "\n",
    "def species_plot(df):\n",
    "    df = df.replace(\"__ribosome\", \"free ribosomes\")\n",
    "    df = df.replace(\"TTT_charged\", \"charged tRNA\")\n",
    "    df = df.replace(\"TTT_uncharged\", \"uncharged tRNA\")\n",
    "    df_fil = df[(df.species == \"charged tRNA\") | (df.species == \"free ribosomes\")]\n",
    "    g = sns.lineplot(x=\"time\", y=\"protein\", units=\"seed\", hue=\"species\", estimator=None, data=df_fil)\n",
    "    g.get_legend().set_title(None)"
   ]
  },
  {
   "cell_type": "code",
   "execution_count": 12,
   "id": "a471f025-8f6e-46a4-be69-9d9ce854bdab",
   "metadata": {},
   "outputs": [],
   "source": [
    "from bisect import bisect_left\n",
    "def take_closest(myList, myNumber):\n",
    "    \"\"\"\n",
    "    Assumes myList is sorted. Returns closest value to myNumber.\n",
    "\n",
    "    If two numbers are equally close, return the smallest number.\n",
    "    \"\"\"\n",
    "    pos = bisect_left(myList, myNumber)\n",
    "    if pos == 0:\n",
    "        return myList[0]\n",
    "    if pos == len(myList):\n",
    "        return myList[-1]\n",
    "    before = myList[pos - 1]\n",
    "    after = myList[pos]\n",
    "    if after - myNumber < myNumber - before:\n",
    "        return after\n",
    "    else:\n",
    "        return before\n",
    "\n",
    "def get_average_protein(path_pref, time, max_seed):\n",
    "    df_master = pd.read_csv(f\"{path_pref}_1.tsv\")\n",
    "    df_master[\"seed\"] = str(1)\n",
    "    for i in range(2, max_seed+1):\n",
    "        tmp = pd.read_csv(f\"{path_pref}_{i}.tsv\", sep=\"\\t\")\n",
    "        tmp[\"seed\"] = str(i)\n",
    "        df_master = df_master.append(tmp, ignore_index=True)\n",
    "    \n",
    "    df_master[\"time\"] = df_master[\"time\"].apply(np.ceil)\n",
    "    # get average species counts for all trials\n",
    "    df_master = df_master.groupby([\"time\", \"species\"])[\"protein\"].mean().reset_index()\n",
    "    if time not in df_master[\"time\"].values:\n",
    "        time = take_closest(df_master[\"time\"].values, time)\n",
    "        print(time)\n",
    "    df_master = df_master[(df_master.time == time)] \n",
    "    df_master = df_master.replace(\"__ribosome\", \"ribosomes\")\n",
    "    return df_master"
   ]
  },
  {
   "cell_type": "code",
   "execution_count": 13,
   "id": "7bda5d06-71d9-469b-8544-6c31d73a4870",
   "metadata": {},
   "outputs": [],
   "source": [
    "from trnasimtools.serialize import SerializeSingleCodonSingleTranscript\n",
    "from trnasimtools.simulate import SimulateSingleCodonSingleTranscript"
   ]
  },
  {
   "cell_type": "code",
   "execution_count": 14,
   "id": "73682629-8b4f-4a2d-ba3f-c31d00a1890d",
   "metadata": {},
   "outputs": [],
   "source": [
    "rcParams['figure.figsize'] = [10, 5]"
   ]
  },
  {
   "cell_type": "code",
   "execution_count": 2,
   "id": "67b9fcb2-c579-48e5-b766-ba9848aaca23",
   "metadata": {},
   "outputs": [],
   "source": [
    "!mkdir ../yaml/april-15-2023\n",
    "!mkdir ../output/april-15-2023"
   ]
  },
  {
   "cell_type": "code",
   "execution_count": 13,
   "id": "8498cf8d-7d11-45d7-aadc-f81276ccb88c",
   "metadata": {},
   "outputs": [],
   "source": [
    "date = \"april-15-2023\""
   ]
  },
  {
   "cell_type": "markdown",
   "id": "b5dc4e97-9579-4614-aa98-f9e332180481",
   "metadata": {},
   "source": [
    "## Finding analytical solutions for a single codon/single transcript system"
   ]
  },
  {
   "cell_type": "markdown",
   "id": "642e93ef-855f-415f-a709-3b82c4823e0d",
   "metadata": {},
   "source": [
    "This system consists of a fixed pool of mRNA transcripts, ribosomes, and a single type of tRNA. The rate of protein production depends exclusively on the steady-state concentrations of free ribosomes and charged tRNAs. We will attempt to find analytical solutions to calculate these quantities.\n",
    "\n",
    "For tRNAs, the conversion between the charged/aminoacylated and uncharged form occurs instantaneously and irreversibly. Generically, this kind of reaction looks like\n",
    "\n",
    "$A \\rightarrow B$ with rate $k_{+}$ and $B \\rightarrow A$ with rate $k_{-}$\n",
    "\n",
    "The correspnding rate equation is\n",
    "\n",
    "$\\frac{d}{dt}\\ a(t) = k_{-}b(t) - k_{+}a(t)$ \n",
    "\n",
    "and \n",
    "\n",
    "$\\frac{d}{dt}\\ b(t) = k_{+}a(t) - k_{-}b(t)$"
   ]
  },
  {
   "cell_type": "markdown",
   "id": "91933c7a-dcd9-4c1b-a20d-abb30e081570",
   "metadata": {},
   "source": [
    "Since total concentration is conserved, the concentrations can be derived by writing\n",
    "\n",
    "$b(t) = T - a(t)$\n",
    "\n",
    "Where $T$ is the total concentration of the reversible species. Equation 1 can then be re-written as   "
   ]
  },
  {
   "cell_type": "markdown",
   "id": "4bf70a32-6f6c-481c-ae20-1c4fdab21510",
   "metadata": {},
   "source": [
    "$\\frac{d}{dt}\\ a(t) = k_{-}(T - a(t)) - k_{+}a(t)$\n",
    "\n",
    "and\n",
    "\n",
    "$\\frac{d}{dt}\\ a(t) = k_{-}T - (k_{+} + k_{-})a(t)$ "
   ]
  },
  {
   "cell_type": "markdown",
   "id": "b0e3ce4e-da8c-4503-862a-f7b04b7ac9b0",
   "metadata": {},
   "source": [
    "The steady-state concentration satisfies \n",
    "$0 = k_{-}T - (k_{+} + k_{-})a(t)$"
   ]
  },
  {
   "cell_type": "markdown",
   "id": "a03e16de-edad-4c3f-99a6-0bd24f02a8f4",
   "metadata": {},
   "source": [
    "Solving gives\n",
    "$$\n",
    "a^{ss} = \\frac {k_{-}T}{k_{+}+k_{-}} \n",
    "$$"
   ]
  },
  {
   "cell_type": "markdown",
   "id": "06d49bea-702c-41ca-b6f0-5313c3d8def8",
   "metadata": {},
   "source": [
    "The rate of consumption of charged tRNAs depends on the number of actively translating ribosomes (I think) -> so, the steady-state concentration of active ribosomes, and the ribosome \"speed\" constant. And then the rate of production depends on the charging rate constant. So if we let charged tRNAs be $a^{ss}$, swapping these in to the generic steady-state equation we have\n",
    "\n",
    "$$\n",
    "    tRNA_{charged}^{ss} = \\frac{tRNA_{tot}*k_{charge}}{rib_{active}^{ss} * k_{speed} + k_{charge}}\\\n",
    "$$    \n",
    "\n",
    "$$\n",
    "    rib_{active}^{ss} = \\frac{rib_{tot}*k_{bind}*mRNA_{copy}}{\\frac{tRNA_{charged}^{ss}}{mRNA_{copy}*len}\\ + k_{bind}*mRNA_{copy}}\\\n",
    "$$"
   ]
  },
  {
   "cell_type": "markdown",
   "id": "d34766c0-3938-4c86-bc1e-742e7c290d8e",
   "metadata": {},
   "source": [
    "Next, I run a simulation where active ribosomes and tRNAs have non-trivial (not 0 or max) steady-states, and check the simulated charged tRNA quantities against abundances calculated from the above equation."
   ]
  },
  {
   "cell_type": "code",
   "execution_count": 14,
   "id": "5b0fa3f7-f6ae-4f5c-9d6f-1207c3234eb3",
   "metadata": {},
   "outputs": [],
   "source": [
    "TS_COPY = 200\n",
    "RBS_STRENGTH = 10000\n",
    "TRNA_CHRG_RATE = 100\n",
    "RB_COPY = 100\n",
    "TOTAL_TRNA = 100\n",
    "TIME_LIMIT = 500\n",
    "TIME_STEP = 5"
   ]
  },
  {
   "cell_type": "code",
   "execution_count": 6,
   "id": "e841fb04-a716-4725-a841-8cbe0126c65e",
   "metadata": {},
   "outputs": [],
   "source": [
    "serializer = SerializeSingleCodonSingleTranscript(transcript_len=100,\n",
    "                                                   transcript_copy_number=TS_COPY,\n",
    "                                                   ribosome_binding_rate=RBS_STRENGTH,\n",
    "                                                   ribosome_copy_number=RB_COPY,\n",
    "                                                   total_trna=TOTAL_TRNA,\n",
    "                                                   trna_charging_rate=TRNA_CHRG_RATE\n",
    "                                                   )\n",
    "serializer.serialize(f\"../yaml/{date}\")"
   ]
  },
  {
   "cell_type": "code",
   "execution_count": 12,
   "id": "bd86b34b-5c4a-499b-ba0c-0c026def1ba1",
   "metadata": {},
   "outputs": [],
   "source": [
    "configs = f\"../yaml/{date}/{serializer.filename()}\"\n",
    "with open(f\"../scripts/cmd_files/{date}.txt\", \"w\") as stream:\n",
    "    cmd = f\"python3 singlecodonsingletranscript.py {config} 1 ../output/{date} {TIME_LIMIT} {TIME_STEP}\"\n",
    "    stream.write(cmd)\n",
    "    stream.write(\"\\n\")"
   ]
  },
  {
   "cell_type": "code",
   "execution_count": 19,
   "id": "b6ffddd2-a175-4556-806d-5e6913b189c5",
   "metadata": {},
   "outputs": [
    {
     "data": {
      "image/png": "[encoded data removed]",
      "text/plain": [
       "<Figure size 360x432 with 1 Axes>"
      ]
     },
     "metadata": {
      "needs_background": "light"
     },
     "output_type": "display_data"
    }
   ],
   "source": [
    "# Read in the simualtion and plot the analytical solution \n",
    "rcParams['figure.figsize'] = [5, 6]\n",
    "df_master = read_sim(\"../output/april-15-2023/two_codon_single_transcript_200_100_100_10000_100\", 1, 1, 1) #should be \"one codon\"\n",
    "species_plot(df_master)\n",
    "#ribosome_plot(df_master)\n",
    "plt.ylabel(\"counts\")\n",
    "plt.gca().axhline(43, ls='--', color=\"black\", alpha=0.5)\n",
    "plt.gca().axhline(64, ls='--', color=\"black\", alpha=0.5)\n",
    "plt.savefig(f\"../plots/april-15-2023/rbs_10000_chrg_100_both_line_short.png\", bbox_inches=\"tight\")"
   ]
  },
  {
   "cell_type": "markdown",
   "id": "bf613e85-7d1f-40db-ad73-c1fefdb3cebb",
   "metadata": {},
   "source": [
    "This seems to work. Next, I will do the same calculation but for a series of simulations with charging rates ranging from 10^0 to 10^4"
   ]
  },
  {
   "cell_type": "code",
   "execution_count": 7,
   "id": "77e6c4fa-9de7-4bc9-811b-f212d97e2437",
   "metadata": {},
   "outputs": [],
   "source": [
    "chrg_rates = [1.0, 2.5, 5.0, 7.5, 10.0, 25.0, 50.0, 75.0, 100.0, 250.0, 500.0, 750.0, 1000.0, 2500.0, 5000.0, 7500.0, 10000.0]\n",
    "for rate in chrg_rates:\n",
    "    serializer = SerializeSingleCodonSingleTranscript(transcript_len=100,\n",
    "                                                       transcript_copy_number=TS_COPY,\n",
    "                                                       ribosome_binding_rate=RBS_STRENGTH,\n",
    "                                                       ribosome_copy_number=RB_COPY,\n",
    "                                                       total_trna=TOTAL_TRNA,\n",
    "                                                       trna_charging_rate=rate\n",
    "                                                       )\n",
    "    serializer.serialize(f\"../yaml/{date}\")"
   ]
  },
  {
   "cell_type": "code",
   "execution_count": 19,
   "id": "b8b5db34-5dc7-41ce-9211-ed7fd85370b0",
   "metadata": {},
   "outputs": [],
   "source": [
    "configs = os.listdir(f\"../yaml/{date}\")\n",
    "with open(f\"../scripts/cmd_files/{date}.txt\", \"w\") as stream:\n",
    "    for config in configs:\n",
    "        for seed in range(1, 4):\n",
    "            cmd = f\"python3 singlecodonsingletranscript.py ../yaml/{date}/{config} {seed} ../output/{date} {TIME_LIMIT} {TIME_STEP} {RB_SPEED}\"\n",
    "            stream.write(cmd)\n",
    "            stream.write(\"\\n\")"
   ]
  },
  {
   "cell_type": "code",
   "execution_count": 149,
   "id": "50eb1a48-880f-4fc4-8758-e5868201e5ea",
   "metadata": {},
   "outputs": [
    {
     "name": "stdout",
     "output_type": "stream",
     "text": [
      "496.0\n",
      "495.0\n"
     ]
    },
    {
     "data": {
      "text/html": [
       "<div>\n",
       "<style scoped>\n",
       "    .dataframe tbody tr th:only-of-type {\n",
       "        vertical-align: middle;\n",
       "    }\n",
       "\n",
       "    .dataframe tbody tr th {\n",
       "        vertical-align: top;\n",
       "    }\n",
       "\n",
       "    .dataframe thead th {\n",
       "        text-align: right;\n",
       "    }\n",
       "</style>\n",
       "<table border=\"1\" class=\"dataframe\">\n",
       "  <thead>\n",
       "    <tr style=\"text-align: right;\">\n",
       "      <th></th>\n",
       "      <th>time</th>\n",
       "      <th>species</th>\n",
       "      <th>protein</th>\n",
       "      <th>charging_rate</th>\n",
       "    </tr>\n",
       "  </thead>\n",
       "  <tbody>\n",
       "    <tr>\n",
       "      <th>0</th>\n",
       "      <td>496.0</td>\n",
       "      <td>TTT_charged</td>\n",
       "      <td>0.5</td>\n",
       "      <td>1.0</td>\n",
       "    </tr>\n",
       "    <tr>\n",
       "      <th>1</th>\n",
       "      <td>496.0</td>\n",
       "      <td>TTT_uncharged</td>\n",
       "      <td>99.5</td>\n",
       "      <td>1.0</td>\n",
       "    </tr>\n",
       "    <tr>\n",
       "      <th>2</th>\n",
       "      <td>496.0</td>\n",
       "      <td>__proteinX_rbs</td>\n",
       "      <td>193.0</td>\n",
       "      <td>1.0</td>\n",
       "    </tr>\n",
       "    <tr>\n",
       "      <th>3</th>\n",
       "      <td>496.0</td>\n",
       "      <td>ribosomes</td>\n",
       "      <td>1.5</td>\n",
       "      <td>1.0</td>\n",
       "    </tr>\n",
       "    <tr>\n",
       "      <th>4</th>\n",
       "      <td>496.0</td>\n",
       "      <td>proteinX</td>\n",
       "      <td>439.5</td>\n",
       "      <td>1.0</td>\n",
       "    </tr>\n",
       "    <tr>\n",
       "      <th>...</th>\n",
       "      <td>...</td>\n",
       "      <td>...</td>\n",
       "      <td>...</td>\n",
       "      <td>...</td>\n",
       "    </tr>\n",
       "    <tr>\n",
       "      <th>80</th>\n",
       "      <td>500.0</td>\n",
       "      <td>TTT_charged</td>\n",
       "      <td>99.0</td>\n",
       "      <td>10000.0</td>\n",
       "    </tr>\n",
       "    <tr>\n",
       "      <th>81</th>\n",
       "      <td>500.0</td>\n",
       "      <td>TTT_uncharged</td>\n",
       "      <td>1.0</td>\n",
       "      <td>10000.0</td>\n",
       "    </tr>\n",
       "    <tr>\n",
       "      <th>82</th>\n",
       "      <td>500.0</td>\n",
       "      <td>__proteinX_rbs</td>\n",
       "      <td>199.0</td>\n",
       "      <td>10000.0</td>\n",
       "    </tr>\n",
       "    <tr>\n",
       "      <th>83</th>\n",
       "      <td>500.0</td>\n",
       "      <td>ribosomes</td>\n",
       "      <td>79.5</td>\n",
       "      <td>10000.0</td>\n",
       "    </tr>\n",
       "    <tr>\n",
       "      <th>84</th>\n",
       "      <td>500.0</td>\n",
       "      <td>proteinX</td>\n",
       "      <td>32321.5</td>\n",
       "      <td>10000.0</td>\n",
       "    </tr>\n",
       "  </tbody>\n",
       "</table>\n",
       "<p>85 rows × 4 columns</p>\n",
       "</div>"
      ],
      "text/plain": [
       "     time         species  protein  charging_rate\n",
       "0   496.0     TTT_charged      0.5            1.0\n",
       "1   496.0   TTT_uncharged     99.5            1.0\n",
       "2   496.0  __proteinX_rbs    193.0            1.0\n",
       "3   496.0       ribosomes      1.5            1.0\n",
       "4   496.0        proteinX    439.5            1.0\n",
       "..    ...             ...      ...            ...\n",
       "80  500.0     TTT_charged     99.0        10000.0\n",
       "81  500.0   TTT_uncharged      1.0        10000.0\n",
       "82  500.0  __proteinX_rbs    199.0        10000.0\n",
       "83  500.0       ribosomes     79.5        10000.0\n",
       "84  500.0        proteinX  32321.5        10000.0\n",
       "\n",
       "[85 rows x 4 columns]"
      ]
     },
     "execution_count": 149,
     "metadata": {},
     "output_type": "execute_result"
    }
   ],
   "source": [
    "chrg_rates = [1.0, 2.5, 5.0, 7.5, 10.0, 25.0, 50.0, 75.0, 100.0, 250.0, 500.0, 750.0, 1000.0, 2500.0, 5000.0, 7500.0, 10000.0]\n",
    "df_master = None\n",
    "for rate in chrg_rates:\n",
    "    path = f\"../output/{date}/single_codon_single_transcript_200_100_100_10000_{rate}\"\n",
    "    tmp = get_average_protein(path, 500, 3)\n",
    "    tmp[\"charging_rate\"] = rate\n",
    "    df_master = tmp if df_master is None else df_master.append(tmp, ignore_index=True)\n",
    "df_master"
   ]
  },
  {
   "cell_type": "code",
   "execution_count": 150,
   "id": "c66a304b-75b2-4b33-adf3-b483d7bcaa51",
   "metadata": {},
   "outputs": [],
   "source": [
    "df_rib_only = df_master[(df_master.species == \"ribosomes\")]\n",
    "\n",
    "df_filtered = df_master[(df_master.species == \"TTT_charged\") | (df_master.species == \"ribosomes\")]\n",
    "df_filtered = df_filtered.pivot(index = \"charging_rate\", columns = \"species\", values = \"protein\").reset_index()\n",
    "df_filtered[\"tRNA predicted\"] = (100 * df_filtered[\"charging_rate\"]) / (((100 - df_filtered[\"ribosomes\"]) * 3) + df_filtered[\"charging_rate\"])\n",
    "df_filtered = pd.melt(df_filtered, id_vars=[\"charging_rate\"], value_vars=[\"TTT_charged\", \"tRNA predicted\"])"
   ]
  },
  {
   "cell_type": "code",
   "execution_count": 143,
   "id": "b5500f1f-47ad-42b3-a2c2-480ee9bee66e",
   "metadata": {},
   "outputs": [
    {
     "data": {
      "image/png": "[encoded data removed]",
      "text/plain": [
       "<Figure size 720x360 with 1 Axes>"
      ]
     },
     "metadata": {},
     "output_type": "display_data"
    }
   ],
   "source": [
    "rcParams['figure.figsize'] = [10, 5]\n",
    "sns.set_theme(style=\"ticks\", palette=None)\n",
    "\n",
    "df_filtered = df_filtered.replace(\"TTT_charged\", \"simulation\")\n",
    "df_filtered = df_filtered.replace(\"tRNA predicted\", \"analytical solution\")\n",
    "g = sns.scatterplot(data=df_filtered, x=\"charging_rate\", y=\"value\", style=\"species\", s=60)\n",
    "g.get_legend().set_title(None)\n",
    "plt.xscale(\"log\")\n",
    "plt.ylabel(\"steady-state charged tRNA abundance\")\n",
    "plt.xlabel(\"charging rate\")\n",
    "#plt.savefig(f\"../plots/april-15-2023/steady_state_ranges.png\", bbox_inches=\"tight\")"
   ]
  },
  {
   "cell_type": "code",
   "execution_count": 152,
   "id": "e1aac1f7-599b-40d6-a6c9-6ba398875eba",
   "metadata": {},
   "outputs": [
    {
     "data": {
      "text/plain": [
       "Text(0.5, 0, 'charging rate')"
      ]
     },
     "execution_count": 152,
     "metadata": {},
     "output_type": "execute_result"
    },
    {
     "data": {
      "image/png": "[encoded data removed]",
      "text/plain": [
       "<Figure size 720x360 with 1 Axes>"
      ]
     },
     "metadata": {},
     "output_type": "display_data"
    }
   ],
   "source": [
    "rcParams['figure.figsize'] = [10, 5]\n",
    "sns.set_theme(style=\"ticks\", palette=None)\n",
    "\n",
    "g = sns.scatterplot(data=df_rib_only, x=\"charging_rate\", y=\"protein\", s=60)\n",
    "plt.xscale(\"log\")\n",
    "plt.ylabel(\"steady-state free ribosomes\")\n",
    "plt.xlabel(\"charging rate\")"
   ]
  },
  {
   "cell_type": "markdown",
   "id": "e95f481c-056f-4e25-ae15-e906e0575763",
   "metadata": {},
   "source": [
    "~~Now for ribosomes. The rate of consumption of free ribosomes should be proportional to the initiation/binding rate constant and the number of binding sites. The rate of production (replenishing the free ribosome pool) depends on how long elongation takes, which should be proportional to the number of charged tRNAS and inversely proportional to the length of the mRNA. Subsituting these we get~~\n",
    "\n",
    "$$\n",
    "    rib_{free}^{ss} = \\frac{rib_{tot}*tRNA_{charged}^{ss}*mRNA_{len}^{-1}}{mRNA_{tot}*k_{bind} + tRNA_{charged}^{ss}*mRNA_{len}^{-1}}\\\n",
    "$$"
   ]
  },
  {
   "cell_type": "markdown",
   "id": "8450a13e-b5df-41a0-bbcb-1257df47bfd5",
   "metadata": {},
   "source": [
    "$$\n",
    "    tRNA_{charged}^{ss} = tRNA_{tot}*\\frac{k_{charge}}{rib_{active}^{ss} * k_{speed} + k_{charge}}\\\n",
    "$$"
   ]
  },
  {
   "cell_type": "markdown",
   "id": "d8dd0f77-7387-4f72-babd-4eaf9fbb27e8",
   "metadata": {},
   "source": [
    "$$\n",
    "    tRNA_{charged}^{ss} = \\frac{tRNA_{tot}*k_{charge}}{(rib_{total} - rib_{free}^{ss}) * k_{speed} + k_{charge}}\\\n",
    "$$"
   ]
  },
  {
   "cell_type": "markdown",
   "id": "fbdf2efa-2fb6-4a5c-b51a-c647687c83a6",
   "metadata": {},
   "source": [
    "$$\n",
    "    tRNA_{charged}^{ss} = 100*\\frac{100}{(100-45) * 1 + 100}\\ \\approx 65\n",
    "$$"
   ]
  },
  {
   "cell_type": "markdown",
   "id": "4c4c8386-159e-4601-9e77-fdf058912afa",
   "metadata": {},
   "source": [
    "\\begin{align}\n",
    "rib_{free}^{ss} & = \\frac{rib_{tot}*tRNA_{charged}^{ss}*mRNA_{len}^{-1}}{mRNA_{tot}*k_{bind} + tRNA_{charged}^{ss}*mRNA_{len}^{-1}}\\ \\\\\n",
    "tRNA_{charged}^{ss} & = tRNA_{tot}*\\frac{k_{charge}}{rib_{active}^{ss} * k_{speed} + k_{charge}}\\\n",
    "\\end{align} "
   ]
  },
  {
   "cell_type": "markdown",
   "id": "951d1ceb-4fac-44ec-984d-0be8eed0e403",
   "metadata": {},
   "source": [
    "$$\n",
    "rib_{free}*k_{bind}*mRNA = \\frac{rib_{active}*tRNA_{charged}}{mRNA*len}\\\n",
    "$$\n",
    "\n",
    "$$\n",
    "rib_{active} = rib_{tot} * \\frac{k_{bind}*mRNA}{\\frac{tRNA_{charged}}{mRNA*len}\\ + k_{bind}*mRNA}\\\n",
    "$$\n",
    "\n",
    "$$\n",
    "rib_{active} = 100 * \\frac{0.000021*200}{\\frac{64}{200*100}\\ + 0.000021*200}\\ \\approx 57\n",
    "$$\n",
    "\n",
    "\n",
    "$$\n",
    "    tRNA_{charged} = tRNA_{tot} * \\frac{k_{charge}}{rib_{active} * k_{speed} + k_{charge}}\\\n",
    "$$    \n",
    "\n",
    "$$\n",
    "    tRNA_{charged} = 100*\\frac{100}{57 * 1 + 100}\\ \\approx 64\n",
    "$$"
   ]
  },
  {
   "cell_type": "code",
   "execution_count": null,
   "id": "6ee42e97-665e-4841-a957-3c2c6a923572",
   "metadata": {},
   "outputs": [],
   "source": [
    ".0074 = 56"
   ]
  }
 ],
 "metadata": {
  "kernelspec": {
   "display_name": "Python 3 (ipykernel)",
   "language": "python",
   "name": "python3"
  },
  "language_info": {
   "codemirror_mode": {
    "name": "ipython",
    "version": 3
   },
   "file_extension": ".py",
   "mimetype": "text/x-python",
   "name": "python",
   "nbconvert_exporter": "python",
   "pygments_lexer": "ipython3",
   "version": "3.8.12"
  }
 },
 "nbformat": 4,
 "nbformat_minor": 5
}
