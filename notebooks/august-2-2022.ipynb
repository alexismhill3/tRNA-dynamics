{
 "cells": [
  {
   "cell_type": "code",
   "execution_count": 8,
   "id": "830dbf0a-324d-4aa6-afa6-8262f1d59e44",
   "metadata": {},
   "outputs": [],
   "source": [
    "from trnasimtools.serialize import SerializeTwoCodonMultiTranscript\n",
    "import os"
   ]
  },
  {
   "cell_type": "code",
   "execution_count": 9,
   "id": "0dbae8ba-937d-4ecd-a8a0-63f124548e63",
   "metadata": {},
   "outputs": [],
   "source": [
    "from IPython.display import display, HTML\n",
    "import numpy as np\n",
    "import pandas as pd\n",
    "import seaborn as sns\n",
    "from matplotlib import rcParams\n",
    "import matplotlib.pyplot as plt\n",
    "from matplotlib.colors import LogNorm\n",
    "%matplotlib inline"
   ]
  },
  {
   "cell_type": "code",
   "execution_count": 1,
   "id": "6eeab77d-787c-4189-bbf1-014f147797b7",
   "metadata": {},
   "outputs": [],
   "source": [
    "#!mkdir ../yaml/august-2-2022\n",
    "#!mkdir ../output/august-2-2022"
   ]
  },
  {
   "cell_type": "code",
   "execution_count": 13,
   "id": "919f2e1a-3fa6-44ae-9df9-95c412baeddc",
   "metadata": {},
   "outputs": [
    {
     "name": "stdout",
     "output_type": "stream",
     "text": [
      "[10000, 20000, 30000, 40000, 50000, 60000, 70000, 80000, 90000, 100000, 110000, 120000, 130000, 140000, 150000, 160000, 170000, 180000, 190000, 200000, 210000, 220000, 230000, 240000, 250000, 260000, 270000, 280000, 290000, 300000, 310000, 320000, 330000, 340000, 350000, 360000, 370000, 380000, 390000, 400000, 410000, 420000, 430000, 440000, 450000, 460000, 470000, 480000, 490000, 500000, 510000, 520000, 530000, 540000, 550000, 560000, 570000, 580000, 590000, 600000, 610000, 620000, 630000, 640000, 650000, 660000, 670000, 680000, 690000, 700000, 710000, 720000, 730000, 740000, 750000, 760000, 770000, 780000, 790000, 800000, 810000, 820000, 830000, 840000, 850000, 860000, 870000, 880000, 890000, 900000, 910000, 920000, 930000, 940000, 950000, 960000, 970000, 980000, 990000, 1000000]\n"
     ]
    }
   ],
   "source": [
    "# simulation parameters\n",
    "time_limit = 500\n",
    "time_step = 5\n",
    "transcript_lens = [100, 100]\n",
    "transcript_copy_numbers = [50, 50]\n",
    "ribosome_copy_number = 100\n",
    "total_trna = 100\n",
    "ribosome_binding_rate_1 = 10000.0\n",
    "ribosome_binding_rate_2 = [x for x in range(10000, 1000001, 10000)]\n",
    "trna_charging_rate = 100.0\n",
    "transcript_names = [\"proteinX\", \"proteinY\"]\n",
    "trna_props = (0.2, 0.8)\n",
    "codon_comps_1 = (0.5, 0.5)\n",
    "codon_comps_2 = (0.8, 0.2)\n",
    "print(ribosome_binding_rate_2)\n",
    "\n",
    "date = \"august-2-2022\""
   ]
  },
  {
   "cell_type": "code",
   "execution_count": 15,
   "id": "e6144259-a067-465a-a367-8145b267e4ba",
   "metadata": {},
   "outputs": [],
   "source": [
    "serializer = SerializeTwoCodonMultiTranscript(transcript_lens=transcript_lens,\n",
    "                                               codon_comps=[codon_comps_1, codon_comps_2],\n",
    "                                               trna_proportion=trna_props,\n",
    "                                               transcript_names=transcript_names,\n",
    "                                               time_limit=time_limit,\n",
    "                                               time_step=time_step)\n",
    "serializer.serialize(f\"../yaml/{date}\")\n",
    "conf = serializer.filename()"
   ]
  },
  {
   "cell_type": "code",
   "execution_count": 17,
   "id": "76be3620-8e06-4429-be20-855d1e7a2610",
   "metadata": {},
   "outputs": [],
   "source": [
    "with open(f\"../scripts/cmd_files/{date}.txt\", \"w\") as stream:\n",
    "    for binding_rate in ribosome_binding_rate_2:\n",
    "        for seed in range(1, 4):\n",
    "            cmd = f\"python3 twocodonmultitranscript.py ../yaml/{date}/{conf} {seed} {transcript_copy_numbers[0]} {transcript_copy_numbers[1]} \" + \\\n",
    "              f\"{ribosome_copy_number} {total_trna} {ribosome_binding_rate_1} {float(binding_rate)} {trna_charging_rate} {trna_charging_rate} ../output/{date}\"\n",
    "            stream.write(cmd)\n",
    "            stream.write(\"\\n\")"
   ]
  },
  {
   "cell_type": "code",
   "execution_count": 18,
   "id": "b1ce2404-183b-438c-af93-722eb3ba93fd",
   "metadata": {},
   "outputs": [],
   "source": [
    "def read_sim(path_pref, seed_start=1, seed_end=3, seed_incr=1, time_limit=None):\n",
    "    \"\"\" \n",
    "    Reads in output for an arbitrary number of simulation trials \n",
    "    (with different seeds) and concatenates results into a single\n",
    "    dataset.\n",
    "    \"\"\"\n",
    "    df_master = pd.read_csv(f\"{path_pref}_{seed_start}.tsv\", sep=\"\\t\")\n",
    "    df_master[\"seed\"] = str(seed_start)\n",
    "    for i in range(seed_start+1, seed_end+1):\n",
    "        tmp = pd.read_csv(f\"{path_pref}_{i}.tsv\", sep=\"\\t\")\n",
    "        tmp[\"seed\"] = str(i)\n",
    "        df_master = df_master.append(tmp, ignore_index=True)\n",
    "    if time_limit is not None:\n",
    "        df_master = df_master[df_master.time < time_limit]\n",
    "    return df_master\n",
    "\n",
    "from bisect import bisect_left\n",
    "def take_closest(myList, myNumber):\n",
    "    \"\"\"\n",
    "    Assumes myList is sorted. Returns closest value to myNumber.\n",
    "\n",
    "    If two numbers are equally close, return the smallest number.\n",
    "    \"\"\"\n",
    "    pos = bisect_left(myList, myNumber)\n",
    "    if pos == 0:\n",
    "        return myList[0]\n",
    "    if pos == len(myList):\n",
    "        return myList[-1]\n",
    "    before = myList[pos - 1]\n",
    "    after = myList[pos]\n",
    "    if after - myNumber < myNumber - before:\n",
    "        return after\n",
    "    else:\n",
    "        return before\n",
    "    \n",
    "def get_average_protein(path, perc_good, time, max_seed):\n",
    "    df_master = pd.read_csv(f\"{path}_1.tsv\", sep=\"\\t\")\n",
    "    df_master[\"seed\"] = str(1)\n",
    "    for i in range(2, max_seed+1):\n",
    "        tmp = pd.read_csv(f\"{path}_{i}.tsv\", sep=\"\\t\")\n",
    "        tmp[\"seed\"] = str(i)\n",
    "        df_master = df_master.append(tmp, ignore_index=True)\n",
    "    \n",
    "    df_master[\"time\"] = df_master[\"time\"].apply(np.ceil)\n",
    "    tmp = df_master.loc[df_master['time'] == time].groupby([\"species\"])[\"protein\"].mean().reset_index()\n",
    "    if tmp.empty:\n",
    "        times = df_master[\"time\"].to_list()\n",
    "        dedup_times = []\n",
    "        [dedup_times.append(x) for x in times if x not in dedup_times]\n",
    "        next_best_time = take_closest(dedup_times, time)\n",
    "        tmp = df_master.loc[df_master['time'] == next_best_time].groupby([\"species\"])[\"protein\"].mean().reset_index()\n",
    "    #tmp[\"codon_comp\"] = perc_good\n",
    "    return tmp"
   ]
  },
  {
   "cell_type": "code",
   "execution_count": 27,
   "id": "cb8d8bd1-6f66-448e-968d-fcc2c6d426d5",
   "metadata": {},
   "outputs": [
    {
     "data": {
      "text/html": [
       "<div>\n",
       "<style scoped>\n",
       "    .dataframe tbody tr th:only-of-type {\n",
       "        vertical-align: middle;\n",
       "    }\n",
       "\n",
       "    .dataframe tbody tr th {\n",
       "        vertical-align: top;\n",
       "    }\n",
       "\n",
       "    .dataframe thead th {\n",
       "        text-align: right;\n",
       "    }\n",
       "</style>\n",
       "<table border=\"1\" class=\"dataframe\">\n",
       "  <thead>\n",
       "    <tr style=\"text-align: right;\">\n",
       "      <th></th>\n",
       "      <th>species</th>\n",
       "      <th>protein</th>\n",
       "      <th>codon_comp</th>\n",
       "      <th>tRNA_prop</th>\n",
       "      <th>rbs_rate_2</th>\n",
       "    </tr>\n",
       "  </thead>\n",
       "  <tbody>\n",
       "    <tr>\n",
       "      <th>0</th>\n",
       "      <td>ATA_charged</td>\n",
       "      <td>77.666667</td>\n",
       "      <td>0.8</td>\n",
       "      <td>0.2</td>\n",
       "      <td>10000</td>\n",
       "    </tr>\n",
       "    <tr>\n",
       "      <th>1</th>\n",
       "      <td>ATA_uncharged</td>\n",
       "      <td>2.333333</td>\n",
       "      <td>0.8</td>\n",
       "      <td>0.2</td>\n",
       "      <td>10000</td>\n",
       "    </tr>\n",
       "    <tr>\n",
       "      <th>2</th>\n",
       "      <td>TTT_charged</td>\n",
       "      <td>18.000000</td>\n",
       "      <td>0.8</td>\n",
       "      <td>0.2</td>\n",
       "      <td>10000</td>\n",
       "    </tr>\n",
       "    <tr>\n",
       "      <th>3</th>\n",
       "      <td>TTT_uncharged</td>\n",
       "      <td>2.000000</td>\n",
       "      <td>0.8</td>\n",
       "      <td>0.2</td>\n",
       "      <td>10000</td>\n",
       "    </tr>\n",
       "    <tr>\n",
       "      <th>4</th>\n",
       "      <td>__proteinX_rbs</td>\n",
       "      <td>48.666667</td>\n",
       "      <td>0.8</td>\n",
       "      <td>0.2</td>\n",
       "      <td>10000</td>\n",
       "    </tr>\n",
       "    <tr>\n",
       "      <th>...</th>\n",
       "      <td>...</td>\n",
       "      <td>...</td>\n",
       "      <td>...</td>\n",
       "      <td>...</td>\n",
       "      <td>...</td>\n",
       "    </tr>\n",
       "    <tr>\n",
       "      <th>895</th>\n",
       "      <td>__proteinX_rbs</td>\n",
       "      <td>50.000000</td>\n",
       "      <td>0.8</td>\n",
       "      <td>0.2</td>\n",
       "      <td>1000000</td>\n",
       "    </tr>\n",
       "    <tr>\n",
       "      <th>896</th>\n",
       "      <td>__proteinY_rbs</td>\n",
       "      <td>43.000000</td>\n",
       "      <td>0.8</td>\n",
       "      <td>0.2</td>\n",
       "      <td>1000000</td>\n",
       "    </tr>\n",
       "    <tr>\n",
       "      <th>897</th>\n",
       "      <td>free ribosome</td>\n",
       "      <td>1.666667</td>\n",
       "      <td>0.8</td>\n",
       "      <td>0.2</td>\n",
       "      <td>1000000</td>\n",
       "    </tr>\n",
       "    <tr>\n",
       "      <th>898</th>\n",
       "      <td>proteinX</td>\n",
       "      <td>72.000000</td>\n",
       "      <td>0.8</td>\n",
       "      <td>0.2</td>\n",
       "      <td>1000000</td>\n",
       "    </tr>\n",
       "    <tr>\n",
       "      <th>899</th>\n",
       "      <td>proteinY</td>\n",
       "      <td>5895.333333</td>\n",
       "      <td>0.8</td>\n",
       "      <td>0.2</td>\n",
       "      <td>1000000</td>\n",
       "    </tr>\n",
       "  </tbody>\n",
       "</table>\n",
       "<p>900 rows × 5 columns</p>\n",
       "</div>"
      ],
      "text/plain": [
       "            species      protein  codon_comp  tRNA_prop  rbs_rate_2\n",
       "0       ATA_charged    77.666667         0.8        0.2       10000\n",
       "1     ATA_uncharged     2.333333         0.8        0.2       10000\n",
       "2       TTT_charged    18.000000         0.8        0.2       10000\n",
       "3     TTT_uncharged     2.000000         0.8        0.2       10000\n",
       "4    __proteinX_rbs    48.666667         0.8        0.2       10000\n",
       "..              ...          ...         ...        ...         ...\n",
       "895  __proteinX_rbs    50.000000         0.8        0.2     1000000\n",
       "896  __proteinY_rbs    43.000000         0.8        0.2     1000000\n",
       "897   free ribosome     1.666667         0.8        0.2     1000000\n",
       "898        proteinX    72.000000         0.8        0.2     1000000\n",
       "899        proteinY  5895.333333         0.8        0.2     1000000\n",
       "\n",
       "[900 rows x 5 columns]"
      ]
     },
     "execution_count": 27,
     "metadata": {},
     "output_type": "execute_result"
    }
   ],
   "source": [
    "df_master = None\n",
    "\n",
    "for count, rbs_rate in enumerate(ribosome_binding_rate_2):\n",
    "    df_tmp = None\n",
    "    path = f\"../output/{date}/two_codon_multi_transcript_0.5_0.5_0.8_0.2_0.2_0.8\" + \\\n",
    "           f\"_{transcript_copy_numbers[0]}_{transcript_copy_numbers[1]}_{ribosome_copy_number}_{total_trna}\" + \\\n",
    "           f\"_{ribosome_binding_rate_1}_{float(rbs_rate)}_{trna_charging_rate}_{trna_charging_rate}\"\n",
    "    tmp = get_average_protein(path, 0.8, 500, 3)\n",
    "    tmp[\"tRNA_prop\"] = trna_props[0]\n",
    "    if df_tmp is not None:\n",
    "        df_tmp = df_tmp.append(tmp, ignore_index=True)\n",
    "    else:\n",
    "        df_tmp = tmp\n",
    "    df_tmp[\"rbs_rate_2\"] = rbs_rate\n",
    "    if df_master is not None:\n",
    "        df_master = df_master.append(df_tmp, ignore_index=True)\n",
    "    else:\n",
    "        df_master = df_tmp\n",
    "df_master[\"species\"] = df_master[\"species\"].replace({\"__ribosome\": \"free ribosome\"})\n",
    "df_master"
   ]
  },
  {
   "cell_type": "code",
   "execution_count": 29,
   "id": "52c4c6dc-1e08-447b-96f1-ca10569bcb3c",
   "metadata": {},
   "outputs": [
    {
     "data": {
      "text/plain": [
       "Text(0, 0.5, 'Simulated protein')"
      ]
     },
     "execution_count": 29,
     "metadata": {},
     "output_type": "execute_result"
    },
    {
     "data": {
      "image/png": "[encoded data removed]",
      "text/plain": [
       "<Figure size 576x432 with 1 Axes>"
      ]
     },
     "metadata": {
      "needs_background": "light"
     },
     "output_type": "display_data"
    }
   ],
   "source": [
    "df_protein = df_master[(df_master.species == \"proteinX\") | (df_master.species == \"proteinY\")]\n",
    "rcParams['figure.figsize'] = [8, 6]\n",
    "g = sns.lineplot(data=df_protein, x=\"rbs_rate_2\", y=\"protein\", hue=\"species\")\n",
    "plt.xlabel(\"Transcript Y RBS strength\")\n",
    "plt.ylabel(\"Simulated protein\")"
   ]
  },
  {
   "cell_type": "code",
   "execution_count": 28,
   "id": "88f3cd3e-0131-4672-9cff-697ca34ff608",
   "metadata": {},
   "outputs": [
    {
     "data": {
      "text/plain": [
       "Text(0, 0.5, 'Species counts')"
      ]
     },
     "execution_count": 28,
     "metadata": {},
     "output_type": "execute_result"
    },
    {
     "data": {
      "image/png": "[encoded data removed]",
      "text/plain": [
       "<Figure size 576x432 with 1 Axes>"
      ]
     },
     "metadata": {
      "needs_background": "light"
     },
     "output_type": "display_data"
    }
   ],
   "source": [
    "df_species = df_master[(df_master.species == \"free ribosome\") | (df_master.species == \"TTT_charged\") | (df_master.species == \"ATA_charged\")]\n",
    "rcParams['figure.figsize'] = [8, 6]\n",
    "sns.lineplot(data=df_species, x=\"rbs_rate_2\", y=\"protein\", hue=\"species\")\n",
    "plt.xlabel(\"Transcript Y RBS strength\")\n",
    "plt.ylabel(\"Species counts\")"
   ]
  },
  {
   "cell_type": "code",
   "execution_count": null,
   "id": "a68a3d1f-9280-4c04-8749-82f6d6d2b46e",
   "metadata": {},
   "outputs": [],
   "source": []
  }
 ],
 "metadata": {
  "kernelspec": {
   "display_name": "Python 3",
   "language": "python",
   "name": "python3"
  },
  "language_info": {
   "codemirror_mode": {
    "name": "ipython",
    "version": 3
   },
   "file_extension": ".py",
   "mimetype": "text/x-python",
   "name": "python",
   "nbconvert_exporter": "python",
   "pygments_lexer": "ipython3",
   "version": "3.6.9"
  }
 },
 "nbformat": 4,
 "nbformat_minor": 5
}
