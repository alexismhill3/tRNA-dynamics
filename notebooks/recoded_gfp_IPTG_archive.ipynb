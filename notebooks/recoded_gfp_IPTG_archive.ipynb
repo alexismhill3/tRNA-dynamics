{
 "cells": [
  {
   "cell_type": "markdown",
   "id": "68b61791-3657-4b37-9492-fb345b18fab2",
   "metadata": {},
   "source": [
    "### Recoded GFP/Cell burden modeling - Varying GFP mRNA concentration - archived simulations\n",
    "\n",
    "Date: March 2023\n",
    "\n",
    "Simulations that were not really informative, but are saved here for posterity. "
   ]
  },
  {
   "cell_type": "code",
   "execution_count": 1,
   "id": "f87f9e66-1960-4d0c-8a16-b776263e28a7",
   "metadata": {},
   "outputs": [],
   "source": [
    "from trnasimtools.serialize import SerializeTwoCodonMultiTranscript\n",
    "import os"
   ]
  },
  {
   "cell_type": "code",
   "execution_count": 2,
   "id": "6641a85d-04e4-42a0-9517-21364081930f",
   "metadata": {},
   "outputs": [],
   "source": [
    "from IPython.display import display, HTML\n",
    "import numpy as np\n",
    "import pandas as pd\n",
    "import seaborn as sns\n",
    "from matplotlib import rcParams\n",
    "import matplotlib.pyplot as plt\n",
    "from matplotlib.colors import LogNorm\n",
    "%matplotlib inline\n",
    "import math"
   ]
  },
  {
   "cell_type": "code",
   "execution_count": 3,
   "id": "5acf1532-f2c1-409b-88c2-de963fab103f",
   "metadata": {},
   "outputs": [],
   "source": [
    "# Functions for reading in simulation data\n",
    "\n",
    "def read_sim(path_pref, seed_start=1, seed_end=3, seed_incr=1, time_limit=None):\n",
    "    \"\"\" \n",
    "    Reads in output for an arbitrary number of simulation trials \n",
    "    (with different seeds) and concatenates results into a single\n",
    "    dataset.\n",
    "    \"\"\"\n",
    "    df_master = pd.read_csv(f\"{path_pref}_{seed_start}.tsv\", sep=\"\\t\")\n",
    "    df_master[\"seed\"] = str(seed_start)\n",
    "    for i in range(seed_start+1, seed_end+1):\n",
    "        tmp = pd.read_csv(f\"{path_pref}_{i}.tsv\", sep=\"\\t\")\n",
    "        tmp[\"seed\"] = str(i)\n",
    "        df_master = df_master.append(tmp, ignore_index=True)\n",
    "    if time_limit is not None:\n",
    "        df_master = df_master[df_master.time < time_limit]\n",
    "    return df_master\n",
    "\n",
    "from bisect import bisect_left\n",
    "def take_closest(myList, myNumber):\n",
    "    \"\"\"\n",
    "    Assumes myList is sorted. Returns closest value to myNumber.\n",
    "    If two numbers are equally close, return the smallest number.\n",
    "    \"\"\"\n",
    "    pos = bisect_left(myList, myNumber)\n",
    "    if pos == 0:\n",
    "        return myList[0]\n",
    "    if pos == len(myList):\n",
    "        return myList[-1]\n",
    "    before = myList[pos - 1]\n",
    "    after = myList[pos]\n",
    "    if after - myNumber < myNumber - before:\n",
    "        return after\n",
    "    else:\n",
    "        return before\n",
    "    \n",
    "def get_average_protein(path, perc_good, time, max_seed):\n",
    "    df_master = pd.read_csv(f\"{path}_1.tsv\", sep=\"\\t\")\n",
    "    df_master[\"seed\"] = str(1)\n",
    "    for i in range(2, max_seed+1):\n",
    "        tmp = pd.read_csv(f\"{path}_{i}.tsv\", sep=\"\\t\")\n",
    "        tmp[\"seed\"] = str(i)\n",
    "        df_master = df_master.append(tmp, ignore_index=True)\n",
    "    \n",
    "    df_master[\"time\"] = df_master[\"time\"].apply(np.ceil)\n",
    "    #tmp = df_master.loc[df_master['time'] == time].groupby([\"species\"])[\"protein\"].mean().reset_index()\n",
    "    tmp = df_master.groupby([\"time\", \"species\"])[\"protein\"].mean().reset_index()\n",
    "    tmp[\"delta\"] = tmp.groupby([\"species\"])[\"protein\"].diff(periods=8)\n",
    "    tmp = tmp[(tmp.time == time) | (tmp.time == 50.0)]\n",
    "    return tmp"
   ]
  },
  {
   "cell_type": "code",
   "execution_count": 5,
   "id": "fb213439-abc9-4e24-9764-7b4352732536",
   "metadata": {},
   "outputs": [],
   "source": [
    "# simulation parameters\n",
    "# RBS strength is aprox. equal to tRNA re-charing rate\n",
    "time_limit = 500\n",
    "time_step = 5\n",
    "transcript_lens = [300, 300]\n",
    "cellular_transcript_copy_number = 50\n",
    "transgene_transcript_copy_number = 25\n",
    "ribosome_copy_number = 500\n",
    "total_trna = 500\n",
    "ribosome_binding_rates = [1000, 5000, 10000]\n",
    "trna_charging_rate = 1000.0\n",
    "transcript_names = [\"cellularProtein\", \"GFP\"]\n",
    "trna_props = [(0.6, 0.4)]\n",
    "#codon_comps_1 = (0.9, 0.1)\n",
    "codon_comps_2 = [(0.6, 0.4), (0.1, 0.9)]\n",
    "\n",
    "date = \"march-13-2023\""
   ]
  },
  {
   "cell_type": "code",
   "execution_count": 16,
   "id": "448f91a3-ce42-4547-9836-cafd63ec982c",
   "metadata": {},
   "outputs": [],
   "source": [
    "!mkdir ../../yaml/march-13-2023\n",
    "!mkdir ../../output/march-13-2023\n",
    "\n",
    "for trna_prop in trna_props:\n",
    "    for comp in codon_comps_2:\n",
    "        serializer = SerializeTwoCodonMultiTranscript(transcript_lens=transcript_lens,\n",
    "                                                       codon_comps=[trna_prop, comp],\n",
    "                                                       trna_proportion=trna_prop,\n",
    "                                                       transcript_names=transcript_names,\n",
    "                                                       time_limit=time_limit,\n",
    "                                                       time_step=time_step)\n",
    "        serializer.serialize(f\"../../yaml/{date}\")\n",
    "\n",
    "configs = os.listdir(f\"../yaml/{date}\")\n",
    "with open(f\"../scripts/cmd_files/{date}.txt\", \"w\") as stream:\n",
    "    for config in configs:\n",
    "        for ribosome_binding_rate in ribosome_binding_rates:\n",
    "            for seed in range(1, 4):\n",
    "                cmd = f\"python3 twocodonmultitranscript.py ../yaml/{date}/{config} {seed} {cellular_transcript_copy_number} {transgene_transcript_copy_number} \" + \\\n",
    "                  f\"{ribosome_copy_number} {total_trna} {1000} {ribosome_binding_rate} {trna_charging_rate} {trna_charging_rate} ../output/{date}\"\n",
    "                stream.write(cmd)\n",
    "                stream.write(\"\\n\")"
   ]
  },
  {
   "cell_type": "code",
   "execution_count": 6,
   "id": "2709d7f8-d93b-4dcc-88f0-744d3cee0973",
   "metadata": {},
   "outputs": [],
   "source": [
    "df_master = None\n",
    "for ribosome_binding_rate in ribosome_binding_rates:\n",
    "    df_rib = None\n",
    "    for codon_comp in codon_comps_2:\n",
    "        path = f\"../output/{date}/two_codon_multi_transcript_0.6_0.4_{codon_comp[0]}_{codon_comp[1]}_0.6_0.4\" + \\\n",
    "               f\"_{cellular_transcript_copy_number}_{transgene_transcript_copy_number}_{ribosome_copy_number}_{total_trna}\" + \\\n",
    "               f\"_1000.0_{ribosome_binding_rate}.0_1000.0_1000.0\"\n",
    "        tmp = get_average_protein(path, 0.5, 500, 3)\n",
    "        tmp[\"codon_comp\"] = codon_comp[0]\n",
    "        tmp[\"species\"] = tmp[\"species\"].replace({\"__ribosome\": \"free ribosome\"})\n",
    "        if df_rib is not None:\n",
    "            df_rib = df_rib.append(tmp, ignore_index=True)\n",
    "        else:\n",
    "            df_rib = tmp\n",
    "        df_rib[\"ribosome_binding\"] = ribosome_binding_rate\n",
    "\n",
    "    if df_master is not None:\n",
    "        df_master = df_master.append(df_rib, ignore_index=True)\n",
    "    else:\n",
    "        df_master = df_rib\n",
    "\n",
    "df_master = df_master[(df_master.time == 500.0)]\n",
    "df_master = df_master[(df_master.ribosome_binding > 1000)]"
   ]
  },
  {
   "cell_type": "code",
   "execution_count": 7,
   "id": "62bbc80c-2b28-4348-a94a-42cf30a78b16",
   "metadata": {},
   "outputs": [],
   "source": [
    "pivot = df_master.pivot(index = [\"codon_comp\", \"ribosome_binding\"], columns = \"species\", values = \"protein\").reset_index()\n",
    "pivot[\"GFP\"] = pivot[\"GFP\"].fillna(0)\n",
    "\n",
    "pivot[\"cellularProtein_transformed\"] = pivot[\"cellularProtein\"].groupby([pivot.codon_comp, pivot.ribosome_binding]).transform(lambda x: x/x.max())\n",
    "pivot[\"GFP_transformed\"] = pivot[\"GFP\"] / (pivot[\"GFP\"] + pivot[\"cellularProtein\"])\n",
    "pivot[\"Percent_opt\"] = (pivot[\"codon_comp\"] / 0.6 * 100).round().astype(\"int\")\n",
    "pivot[\"exp_cellularProtein\"] = np.exp(pivot[\"cellularProtein_transformed\"])"
   ]
  },
  {
   "cell_type": "code",
   "execution_count": 8,
   "id": "7a20f4e6-7fc8-4a5d-8545-75280426bb6e",
   "metadata": {},
   "outputs": [
    {
     "data": {
      "image/png": "[encoded data removed]",
      "text/plain": [
       "<Figure size 432x288 with 1 Axes>"
      ]
     },
     "metadata": {
      "needs_background": "light"
     },
     "output_type": "display_data"
    }
   ],
   "source": [
    "sns.scatterplot(data=pivot, x = \"ribosome_binding\", y = \"cellularProtein\", hue = \"codon_comp\")\n",
    "plt.xscale(\"log\")"
   ]
  },
  {
   "cell_type": "markdown",
   "id": "8979ee8c-92dd-48c6-b6ca-e6f71812cb61",
   "metadata": {},
   "source": [
    "With the simulation parameters chosen, RBS strength doesn't really impact protein expression."
   ]
  },
  {
   "cell_type": "code",
   "execution_count": null,
   "id": "cdb3380c-d805-4b6e-b9a7-60d566010c4d",
   "metadata": {},
   "outputs": [],
   "source": []
  }
 ],
 "metadata": {
  "kernelspec": {
   "display_name": "Python 3 (ipykernel)",
   "language": "python",
   "name": "python3"
  },
  "language_info": {
   "codemirror_mode": {
    "name": "ipython",
    "version": 3
   },
   "file_extension": ".py",
   "mimetype": "text/x-python",
   "name": "python",
   "nbconvert_exporter": "python",
   "pygments_lexer": "ipython3",
   "version": "3.8.12"
  }
 },
 "nbformat": 4,
 "nbformat_minor": 5
}
