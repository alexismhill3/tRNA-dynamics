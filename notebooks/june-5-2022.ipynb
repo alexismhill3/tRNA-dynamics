{
 "cells": [
  {
   "cell_type": "code",
   "execution_count": 1,
   "id": "b291b5cd-d04a-4fa3-b041-dbfec3f73cc5",
   "metadata": {},
   "outputs": [],
   "source": [
    "from trnasimtools.serialize import SerializeTwoCodonSingleTranscript\n",
    "import os"
   ]
  },
  {
   "cell_type": "code",
   "execution_count": 2,
   "id": "82266ceb-8ad3-4e85-8219-a3774ac66ce3",
   "metadata": {},
   "outputs": [],
   "source": [
    "date=\"june-5-2022\""
   ]
  },
  {
   "cell_type": "code",
   "execution_count": 3,
   "id": "3c76d055-4db3-477a-a5d5-51aafcf31fe4",
   "metadata": {},
   "outputs": [],
   "source": [
    "#!mkdir ../yaml/june-5-2022\n",
    "#!mkdir ../output/june-5-2022"
   ]
  },
  {
   "cell_type": "code",
   "execution_count": 4,
   "id": "60aeabac-c8b5-472a-ac58-24668200e074",
   "metadata": {},
   "outputs": [],
   "source": [
    "# simulation parameters\n",
    "time_limit = 500\n",
    "time_step = 5\n",
    "transcript_len = 100\n",
    "transcript_copy_number = 100\n",
    "ribosome_copy_number = 100\n",
    "total_trna = 100\n",
    "ribosome_binding_rate = 1\n",
    "trna_charging_rates = [0.0001, 0.00025, 0.0005, 0.00075, 0.001, 0.0025, 0.005, 0.0075, 0.01, 0.025, 0.05, 0.075, 0.1, 0.25, 0.5, 0.75, 1.0, 2.5, 5.0, 7.5, 10.0]"
   ]
  },
  {
   "cell_type": "code",
   "execution_count": 8,
   "id": "b10c00db-d1d5-4798-bf11-be81add61be8",
   "metadata": {},
   "outputs": [],
   "source": [
    "# Write simulation configuration file - I'm using the TwoCodon class I wrote, but the transcript is just going to consist of a single codon repeated 100 times\n",
    "trna1_prop, trna2_prop = (1.0, 0.0)\n",
    "codon1_prop, codon2_prop = (1.0, 0.0)\n",
    "serializer = SerializeTwoCodonSingleTranscript(transcript_len=transcript_len,\n",
    "                                           codon_comp=(codon1_prop, codon2_prop),\n",
    "                                           trna_proportion=(trna1_prop, trna2_prop),\n",
    "                                           time_limit=time_limit,\n",
    "                                           time_step=time_step)\n",
    "serializer.serialize(f\"../yaml/{date}\")\n",
    "config = f\"../yaml/{date}/{serializer.filename()}\""
   ]
  },
  {
   "cell_type": "code",
   "execution_count": 11,
   "id": "dfa3e0e5-b8a7-4d43-b0cb-1cd7be2a0e81",
   "metadata": {},
   "outputs": [],
   "source": [
    "#!mkdir ../output/june-5-2022/cell_volume_8e-16"
   ]
  },
  {
   "cell_type": "code",
   "execution_count": 12,
   "id": "07c2eecf-a80f-48f0-a6a6-ca8032872ac6",
   "metadata": {},
   "outputs": [],
   "source": [
    "cell_volume = \"8e-16\"\n",
    "with open(f\"../scripts/cmd_files/{date}_{cell_volume}.txt\", \"w\") as stream:\n",
    "        for trna_charging_rate in trna_charging_rates:\n",
    "            for seed in range(1, 6):\n",
    "                cmd = f\"python3 twocodonsingletranscript_cellvol.py {config} {seed} {transcript_copy_number} \" + \\\n",
    "                      f\"{ribosome_copy_number} {total_trna} {ribosome_binding_rate} {trna_charging_rate} {trna_charging_rate} \" + \\\n",
    "                      f\"{cell_volume} ../output/{date}/cell_volume_{cell_volume}\"\n",
    "                stream.write(cmd)\n",
    "                stream.write(\"\\n\")"
   ]
  },
  {
   "cell_type": "code",
   "execution_count": null,
   "id": "61982954-49e8-402c-8bdf-793db107f130",
   "metadata": {},
   "outputs": [],
   "source": []
  }
 ],
 "metadata": {
  "kernelspec": {
   "display_name": "Python 3",
   "language": "python",
   "name": "python3"
  },
  "language_info": {
   "codemirror_mode": {
    "name": "ipython",
    "version": 3
   },
   "file_extension": ".py",
   "mimetype": "text/x-python",
   "name": "python",
   "nbconvert_exporter": "python",
   "pygments_lexer": "ipython3",
   "version": "3.6.9"
  }
 },
 "nbformat": 4,
 "nbformat_minor": 5
}
