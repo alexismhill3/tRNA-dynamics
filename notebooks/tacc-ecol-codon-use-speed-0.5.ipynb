{
 "cells": [
  {
   "cell_type": "code",
   "execution_count": 3,
   "id": "fc5c2219-f1ec-44ae-8672-60d9497f1ab3",
   "metadata": {},
   "outputs": [],
   "source": [
    "from trnasimtools.serialize import SerializeTwoCodonMultiTranscript\n",
    "import os"
   ]
  },
  {
   "cell_type": "code",
   "execution_count": 1,
   "id": "3c818ff1-9067-486e-aed5-f93485e0d539",
   "metadata": {},
   "outputs": [],
   "source": [
    "import numpy as np\n",
    "import pandas as pd\n",
    "import seaborn as sns\n",
    "from matplotlib import rcParams\n",
    "import matplotlib.pyplot as plt\n",
    "from matplotlib.colors import LogNorm"
   ]
  },
  {
   "cell_type": "code",
   "execution_count": 2,
   "id": "75ab475c-83c1-4d9a-a92f-a12a030626db",
   "metadata": {},
   "outputs": [],
   "source": [
    "def read_sim(path_pref, seed_start=1, seed_end=3, seed_incr=1, time_limit=None):\n",
    "    \"\"\" \n",
    "    Reads in output for an arbitrary number of simulation trials \n",
    "    (with different seeds) and concatenates results into a single\n",
    "    dataset.\n",
    "    \"\"\"\n",
    "    df_master = pd.read_csv(f\"{path_pref}_{seed_start}.tsv\", sep=\"\\t\")\n",
    "    df_master[\"seed\"] = str(seed_start)\n",
    "    for i in range(seed_start+1, seed_end+1):\n",
    "        tmp = pd.read_csv(f\"{path_pref}_{i}.tsv\", sep=\"\\t\")\n",
    "        tmp[\"seed\"] = str(i)\n",
    "        df_master = df_master.append(tmp, ignore_index=True)\n",
    "    if time_limit is not None:\n",
    "        df_master = df_master[df_master.time < time_limit]\n",
    "    return df_master\n",
    "    \n",
    "def concat_sims(path_pref, max_seed):\n",
    "    df_master = pd.read_csv(f\"{path_pref}_1.tsv\", sep=\"\\t\")\n",
    "    df_master[\"seed\"] = str(1)\n",
    "    for i in range(2, max_seed+1):\n",
    "        tmp = pd.read_csv(f\"{path_pref}_{i}.tsv\", sep=\"\\t\")\n",
    "        tmp[\"seed\"] = str(i)\n",
    "        df_master = df_master.append(tmp, ignore_index=True)\n",
    "    \n",
    "    return df_master\n",
    "    \n",
    "def get_average_protein(path, perc_good, time, max_seed):\n",
    "    df_master = concat_sims(path, max_seed)\n",
    "    df_master[\"time\"] = df_master[\"time\"].apply(np.ceil)\n",
    "    tmp = df_master.groupby([\"time\", \"species\"])[\"protein\", \"ribo_density\"].mean().reset_index()\n",
    "    tmp = tmp[(tmp.time > time - 50)] # look at simulations after equilibrium is reached\n",
    "    tmp[\"ribo_density_ave\"] = tmp[(tmp.species == \"cellularProtein\")]['ribo_density'].mean()\n",
    "    tmp = tmp[(tmp.time == time)]\n",
    "    return tmp"
   ]
  },
  {
   "cell_type": "code",
   "execution_count": 7,
   "id": "ef609de3-3793-4e7b-97d5-252b2a00dc45",
   "metadata": {},
   "outputs": [],
   "source": [
    "# simulation parameters \n",
    "time_limit = 100\n",
    "time_step = 5\n",
    "transcript_lens = [1000, 300]\n",
    "cellular_transcript_copy_number = 100\n",
    "gfp_transcript_copy_number = 20\n",
    "ribosome_copy_number = 500\n",
    "total_trna = 2500\n",
    "ecol_rbs_rate = 100000.0\n",
    "ribosome_binding_rates = [10000.0, 30000.0, 100000.0, 300000.0, 1000000.0, 3000000.0]\n",
    "trna_charging_rates = [10.0, 30.0, 100.0, 300.0, 1000.0, 3000.0, 10000.0]\n",
    "transcript_names = [\"cellularProtein\", \"GFP\"]\n",
    "trna_composition = [(0.7, 0.3)]\n",
    "gfp_mrna_compositions = [(0.9, 0.1), (0.7, 0.3), (0.5, 0.5), (0.3, 0.7), (0.1, 0.9)]\n",
    "ribosome_speed = 0.5\n",
    "ribosome_footprint = 15\n",
    "\n",
    "ecol_mrna_compositions = [(0.2, 0.8), (0.4, 0.6), (0.6, 0.4), (0.7, 0.3), (0.8, 0.2), (1.0, 0)]\n",
    "date = \"may-28-2024\""
   ]
  },
  {
   "cell_type": "code",
   "execution_count": 9,
   "id": "28086f26-39fa-4217-a335-10810380cf7b",
   "metadata": {},
   "outputs": [],
   "source": [
    "!mkdir ../yaml/may-28-2024"
   ]
  },
  {
   "cell_type": "code",
   "execution_count": 10,
   "id": "a4211c11-007d-418f-a66e-50e31fec051f",
   "metadata": {},
   "outputs": [],
   "source": [
    "scratch_dir = \"/scratch/07227/hilla3/output\"\n",
    "\n",
    "for trna_prop in trna_composition:\n",
    "    for comp in gfp_mrna_compositions:\n",
    "        for ecol in ecol_mrna_compositions:\n",
    "            serializer = SerializeTwoCodonMultiTranscript(transcript_lens=transcript_lens,\n",
    "                                                           codon_comps=[ecol, comp],\n",
    "                                                           trna_proportion=trna_prop,\n",
    "                                                           transcript_names=transcript_names,\n",
    "                                                           time_limit=time_limit,\n",
    "                                                           time_step=time_step)\n",
    "            serializer.serialize(f\"../yaml/{date}\")\n",
    "        \n",
    "configs = os.listdir(f\"../yaml/{date}\")\n",
    "with open(f\"../tacc/launcher/{date}.txt\", \"w\") as stream:\n",
    "    for config in configs:\n",
    "        for binding_rate in ribosome_binding_rates:\n",
    "            for charging_rate in trna_charging_rates:\n",
    "                for seed in range(1, 4):\n",
    "                    cmd = f\"python3 ./scripts/twocodonmultitranscript.py ./yaml/{date}/{config} {seed} {cellular_transcript_copy_number} {gfp_transcript_copy_number} \" + \\\n",
    "                      f\"{ribosome_copy_number} {total_trna} {ecol_rbs_rate} {binding_rate} {charging_rate} {charging_rate} \" + \\\n",
    "                      f\"{scratch_dir}/{date} {ribosome_speed} {ribosome_footprint}\"\n",
    "                    stream.write(cmd)\n",
    "                    stream.write(\"\\n\")"
   ]
  }
 ],
 "metadata": {
  "kernelspec": {
   "display_name": "Python 3 (ipykernel)",
   "language": "python",
   "name": "python3"
  },
  "language_info": {
   "codemirror_mode": {
    "name": "ipython",
    "version": 3
   },
   "file_extension": ".py",
   "mimetype": "text/x-python",
   "name": "python",
   "nbconvert_exporter": "python",
   "pygments_lexer": "ipython3",
   "version": "3.8.12"
  }
 },
 "nbformat": 4,
 "nbformat_minor": 5
}
