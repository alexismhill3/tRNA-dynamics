{
 "cells": [
  {
   "cell_type": "code",
   "execution_count": 5,
   "id": "46cb8f43-8f5c-4035-a3d5-b2f3594375dd",
   "metadata": {},
   "outputs": [],
   "source": [
    "from trnasimtools.serialize import SerializeTwoCodonSingleTranscript\n",
    "import os"
   ]
  },
  {
   "cell_type": "code",
   "execution_count": 2,
   "id": "0af955cf-9ed6-4621-8869-f12c07ab2d6f",
   "metadata": {},
   "outputs": [],
   "source": [
    "#!mkdir ../yaml/may-3-2022\n",
    "#!mkdir ../output/may-3-2022"
   ]
  },
  {
   "cell_type": "code",
   "execution_count": 3,
   "id": "0695f8d6-cca3-4a54-b905-738afb83280f",
   "metadata": {},
   "outputs": [],
   "source": [
    "date=\"may-3-2022\""
   ]
  },
  {
   "cell_type": "code",
   "execution_count": 4,
   "id": "7d8715d5-cef1-4182-a236-27e3df833ce3",
   "metadata": {},
   "outputs": [],
   "source": [
    "time_limit = 500\n",
    "time_step = 5\n",
    "transcript_len = 100\n",
    "trna_prop = [1, 2, 5, 10, 20, 30, 40, 45, 48, 49, 50, 51, 52, 55, 60, 70, 80, 90, 95, 98, 99]\n",
    "codon_comp = range(1, 100)\n",
    "\n",
    "for i in trna_prop:\n",
    "    for j in codon_comp:\n",
    "        trna1_prop, trna2_prop = (i/100, (100-i)/100)\n",
    "        codon1_prop, codon2_prop = (j/100, (100-j)/100)\n",
    "        serializer = SerializeTwoCodonSingleTranscript(transcript_len=transcript_len,\n",
    "                                                   codon_comp=(codon1_prop, codon2_prop),\n",
    "                                                   trna_proportion=(trna1_prop, trna2_prop),\n",
    "                                                   time_limit=time_limit,\n",
    "                                                   time_step=time_step)\n",
    "        serializer.serialize(f\"../yaml/{date}\")"
   ]
  },
  {
   "cell_type": "code",
   "execution_count": 12,
   "id": "466d6159-72e9-4d65-8af6-ac077c4a502e",
   "metadata": {},
   "outputs": [],
   "source": [
    "transcript_copy_number = 100\n",
    "ribosome_copy_number = 100\n",
    "total_trna = 100\n",
    "ribosome_binding_rate = 100000.0\n",
    "trna_charging_rates = [10.0, 100.0, 1000.0, 10000.0, 100000.0, 1000000.0]\n",
    "configs = os.listdir(f\"../yaml/{date}\")\n",
    "\n",
    "with open(f\"../scripts/cmd_files/{date}.txt\", \"w\") as stream:\n",
    "    for config in configs:\n",
    "        for trna_charging_rate in trna_charging_rates:\n",
    "            for seed in range(1, 6):\n",
    "                cmd = f\"python3 twocodonsingletranscript.py ../yaml/{date}/{config} {seed} {transcript_copy_number} \" + \\\n",
    "                      f\"{ribosome_copy_number} {total_trna} {ribosome_binding_rate} {trna_charging_rate} {trna_charging_rate} ../output/{date}\"\n",
    "                stream.write(cmd)\n",
    "                stream.write(\"\\n\")"
   ]
  },
  {
   "cell_type": "code",
   "execution_count": null,
   "id": "9e4593fc-6f03-4b9d-91da-ecf8eeef5fb6",
   "metadata": {},
   "outputs": [],
   "source": []
  }
 ],
 "metadata": {
  "kernelspec": {
   "display_name": "Python 3 (ipykernel)",
   "language": "python",
   "name": "python3"
  },
  "language_info": {
   "codemirror_mode": {
    "name": "ipython",
    "version": 3
   },
   "file_extension": ".py",
   "mimetype": "text/x-python",
   "name": "python",
   "nbconvert_exporter": "python",
   "pygments_lexer": "ipython3",
   "version": "3.8.10"
  }
 },
 "nbformat": 4,
 "nbformat_minor": 5
}
