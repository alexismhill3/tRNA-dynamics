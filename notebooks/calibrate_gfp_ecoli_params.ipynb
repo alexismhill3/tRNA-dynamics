{
 "cells": [
  {
   "cell_type": "code",
   "execution_count": 93,
   "id": "fc05dd2a-94eb-4aca-9927-6161c8557282",
   "metadata": {},
   "outputs": [],
   "source": [
    "from IPython.display import display, HTML\n",
    "import numpy as np\n",
    "import pandas as pd\n",
    "import seaborn as sns\n",
    "from matplotlib import rcParams\n",
    "import matplotlib.pyplot as plt\n",
    "from matplotlib.colors import LogNorm\n",
    "%matplotlib inline\n",
    "import math"
   ]
  },
  {
   "cell_type": "code",
   "execution_count": 94,
   "id": "870c7460-413d-4359-bb21-6f4209d3c2ca",
   "metadata": {},
   "outputs": [],
   "source": [
    "from trnasimtools.serialize import SerializeTwoCodonMultiTranscript\n",
    "import os"
   ]
  },
  {
   "cell_type": "code",
   "execution_count": 103,
   "id": "3839942b-b3df-4e7d-a936-02a95336c516",
   "metadata": {},
   "outputs": [],
   "source": [
    "def read_sim(path_pref, seed_start=1, seed_end=3, seed_incr=1, time_limit=None):\n",
    "    \"\"\" \n",
    "    Reads in output for an arbitrary number of simulation trials \n",
    "    (with different seeds) and concatenates results into a single\n",
    "    dataset.\n",
    "    \"\"\"\n",
    "    df_master = pd.read_csv(f\"{path_pref}_{seed_start}.tsv\", sep=\"\\t\")\n",
    "    df_master[\"seed\"] = str(seed_start)\n",
    "    for i in range(seed_start+1, seed_end+1):\n",
    "        tmp = pd.read_csv(f\"{path_pref}_{i}.tsv\", sep=\"\\t\")\n",
    "        tmp[\"seed\"] = str(i)\n",
    "        df_master = df_master.append(tmp, ignore_index=True)\n",
    "    if time_limit is not None:\n",
    "        df_master = df_master[df_master.time < time_limit]\n",
    "    return df_master\n",
    "\n",
    "from bisect import bisect_left\n",
    "def take_closest(myList, myNumber):\n",
    "    \"\"\"\n",
    "    Assumes myList is sorted. Returns closest value to myNumber.\n",
    "\n",
    "    If two numbers are equally close, return the smallest number.\n",
    "    \"\"\"\n",
    "    pos = bisect_left(myList, myNumber)\n",
    "    if pos == 0:\n",
    "        return myList[0]\n",
    "    if pos == len(myList):\n",
    "        return myList[-1]\n",
    "    before = myList[pos - 1]\n",
    "    after = myList[pos]\n",
    "    if after - myNumber < myNumber - before:\n",
    "        return after\n",
    "    else:\n",
    "        return before\n",
    "    \n",
    "def concat_sims(path_pref, max_seed):\n",
    "    df_master = pd.read_csv(f\"{path_pref}_1.tsv\", sep=\"\\t\")\n",
    "    df_master[\"seed\"] = str(1)\n",
    "    for i in range(2, max_seed+1):\n",
    "        tmp = pd.read_csv(f\"{path_pref}_{i}.tsv\", sep=\"\\t\")\n",
    "        tmp[\"seed\"] = str(i)\n",
    "        df_master = df_master.append(tmp, ignore_index=True)\n",
    "    \n",
    "    return df_master\n",
    "    \n",
    "def get_average_protein(path, perc_good, time, max_seed):\n",
    "    df_master = concat_sims(path, max_seed)\n",
    "    \n",
    "    df_master[\"time\"] = df_master[\"time\"].apply(np.ceil)\n",
    "    #tmp = df_master.loc[df_master['time'] == time].groupby([\"species\"])[\"protein\"].mean().reset_index()\n",
    "    tmp = df_master.groupby([\"time\", \"species\"])[\"protein\"].mean().reset_index()\n",
    "    tmp[\"delta\"] = tmp.groupby([\"species\"])[\"protein\"].diff(periods=8)\n",
    "    tmp = tmp[(tmp.time == time) | (tmp.time == 50.0)]\n",
    "    return tmp\n",
    "\n",
    "def get_average_protein_no_delta(path, time, max_seed):\n",
    "    df_master = concat_sims(path, max_seed)\n",
    "    \n",
    "    df_master[\"time\"] = df_master[\"time\"].apply(np.ceil)\n",
    "    tmp = df_master.groupby([\"time\", \"species\"])[\"protein\"].mean().reset_index()\n",
    "    #tmp = tmp[(tmp.time == time) | (tmp.time == 50.0)]\n",
    "    return tmp"
   ]
  },
  {
   "cell_type": "code",
   "execution_count": 71,
   "id": "53ac8527-3b31-475d-84ec-dd2178ae6c5a",
   "metadata": {},
   "outputs": [],
   "source": [
    "!mkdir ../yaml/jan-15-2024\n",
    "!mkdir ../output/jan-15-2024"
   ]
  },
  {
   "cell_type": "code",
   "execution_count": null,
   "id": "ad30cdda-c052-47aa-abee-0a5d00e3ae4f",
   "metadata": {},
   "outputs": [],
   "source": [
    "!mkdir ../yaml/jan-13-2024\n",
    "!mkdir ../output/jan-13-2024"
   ]
  },
  {
   "cell_type": "markdown",
   "id": "00cb91e3-552f-4a73-a5c4-04566b52fb36",
   "metadata": {},
   "source": [
    "E. coli measurements:\n",
    "\n",
    "- 2-10K mRNAs/cell\n",
    "- 70K ribosomes/cell\n",
    "- 375K tRNAs/cell\n",
    "\n",
    "75-90% of ribosomes are bound to mRNAs"
   ]
  },
  {
   "cell_type": "code",
   "execution_count": 264,
   "id": "804b0cbe-6e3c-4c4c-bd10-0e4b48d7cd97",
   "metadata": {},
   "outputs": [],
   "source": [
    "rcParams['figure.figsize'] = [5, 6]"
   ]
  },
  {
   "cell_type": "code",
   "execution_count": 267,
   "id": "f7993879-dd4e-49fe-9e45-c444235e9993",
   "metadata": {},
   "outputs": [
    {
     "name": "stderr",
     "output_type": "stream",
     "text": [
      "/tmp/ipykernel_1418313/1653571807.py:13: UserWarning: FixedFormatter should only be used together with FixedLocator\n",
      "  g.set_yticklabels(['0', '0', '10K', '100K'])\n"
     ]
    },
    {
     "data": {
      "image/png": "[encoded data removed]",
      "text/plain": [
       "<Figure size 360x432 with 1 Axes>"
      ]
     },
     "metadata": {
      "needs_background": "light"
     },
     "output_type": "display_data"
    }
   ],
   "source": [
    "# Create a DataFrame with three values\n",
    "data = {'Category': ['tRNA', 'Ribosomes', 'transcripts'],\n",
    "        'E.coli': [375000, 70000, 5000],\n",
    "        'Simulation': [1500, 300, 50]}\n",
    "df = pd.DataFrame(data)\n",
    "\n",
    "\n",
    "# Plot the DataFrame using seaborn\n",
    "g = sns.barplot(x='Category', y='E.coli', data=df)\n",
    "plt.yscale(\"log\")\n",
    "plt.xlabel(\"\")\n",
    "plt.ylabel(\"Count\")\n",
    "g.set_yticklabels(['0', '0', '10K', '100K'])\n",
    "\n",
    "# Show the plot\n",
    "plt.show()"
   ]
  },
  {
   "cell_type": "code",
   "execution_count": 268,
   "id": "29978766-492c-46a5-9103-a81a139e8db5",
   "metadata": {},
   "outputs": [
    {
     "name": "stderr",
     "output_type": "stream",
     "text": [
      "/tmp/ipykernel_1418313/2355950647.py:6: UserWarning: FixedFormatter should only be used together with FixedLocator\n",
      "  g.set_yticklabels(['0', '0', '100', '1K'])\n"
     ]
    },
    {
     "data": {
      "image/png": "[encoded data removed]",
      "text/plain": [
       "<Figure size 360x432 with 1 Axes>"
      ]
     },
     "metadata": {
      "needs_background": "light"
     },
     "output_type": "display_data"
    }
   ],
   "source": [
    "# Plot the DataFrame using seaborn\n",
    "g = sns.barplot(x='Category', y='Simulation', data=df)\n",
    "plt.yscale(\"log\")\n",
    "plt.xlabel(\"\")\n",
    "plt.ylabel(\"Count\")\n",
    "g.set_yticklabels(['0', '0', '100', '1K'])\n",
    "\n",
    "# Show the plot\n",
    "plt.show()"
   ]
  },
  {
   "cell_type": "code",
   "execution_count": 58,
   "id": "6f1c67f5-4433-49b1-a194-aa6cb76c16f8",
   "metadata": {},
   "outputs": [],
   "source": [
    "# simulation parameters \n",
    "# changing the species counts to better reflect actual cellular ratios\n",
    "# also increased all RBS strengths by an order of magnitude\n",
    "time_limit = 500\n",
    "time_step = 5\n",
    "transcript_lens = [900, 900]\n",
    "cellular_transcript_copy_number = 40\n",
    "transgene_transcript_copy_number = [10]\n",
    "ribosome_copy_number = 300\n",
    "total_trna = 1500\n",
    "ecol_rbs_rate = 100000.0\n",
    "ribosome_binding_rates = [1500.0, 10000.0, 15000.0, 100000.0, 150000.0, 1000000.0]\n",
    "trna_charging_rate = 100.0\n",
    "transcript_names = [\"cellularProtein\", \"GFP\"]\n",
    "trna_props = [(0.9, 0.1)]\n",
    "codon_comps_2 = [(0.99, 0.01), (0.9, 0.1), (0.5, 0.5), (0.1, 0.9)]\n",
    "ribosome_speed = 1\n",
    "ribosome_footprint = 15\n",
    "\n",
    "date = \"jan-13-2024\""
   ]
  },
  {
   "cell_type": "code",
   "execution_count": 80,
   "id": "89a6c500-3e26-41f3-84b7-2814d173770f",
   "metadata": {},
   "outputs": [],
   "source": [
    "# simulation parameters \n",
    "# ribosome speed halved\n",
    "time_limit = 500\n",
    "time_step = 5\n",
    "transcript_lens = [900, 900]\n",
    "cellular_transcript_copy_number = 40\n",
    "transgene_transcript_copy_number = [10]\n",
    "ribosome_copy_number = 300\n",
    "total_trna = 1500\n",
    "ecol_rbs_rate = 100000.0\n",
    "ribosome_binding_rates = [1500.0, 10000.0, 15000.0, 100000.0, 150000.0, 1000000.0]\n",
    "trna_charging_rate = 100.0\n",
    "transcript_names = [\"cellularProtein\", \"GFP\"]\n",
    "trna_props = [(0.9, 0.1)]\n",
    "codon_comps_2 = [(0.99, 0.01), (0.9, 0.1), (0.5, 0.5), (0.1, 0.9)]\n",
    "ribosome_speed = 0.5\n",
    "ribosome_footprint = 15\n",
    "\n",
    "date = \"jan-15-2024\""
   ]
  },
  {
   "cell_type": "code",
   "execution_count": 76,
   "id": "890f49ad-5fe1-4439-8e01-55f56fbb80fb",
   "metadata": {},
   "outputs": [],
   "source": [
    "for trna_prop in trna_props:\n",
    "    for comp in codon_comps_2:\n",
    "        serializer = SerializeTwoCodonMultiTranscript(transcript_lens=transcript_lens,\n",
    "                                                       codon_comps=[trna_prop, comp],\n",
    "                                                       trna_proportion=trna_prop,\n",
    "                                                       transcript_names=transcript_names,\n",
    "                                                       time_limit=time_limit,\n",
    "                                                       time_step=time_step)\n",
    "        serializer.serialize(f\"../yaml/{date}\")"
   ]
  },
  {
   "cell_type": "code",
   "execution_count": 77,
   "id": "4fc885f0-f837-4f1e-b119-8eeac55dda3e",
   "metadata": {},
   "outputs": [],
   "source": [
    "configs = os.listdir(f\"../yaml/{date}\")\n",
    "with open(f\"../scripts/cmd_files/{date}.txt\", \"w\") as stream:\n",
    "    for config in configs:\n",
    "        for copy_number in transgene_transcript_copy_number:\n",
    "            for binding_rate in ribosome_binding_rates:\n",
    "                for seed in range(1, 4):\n",
    "                    cmd = f\"python3 twocodonmultitranscript.py ../yaml/{date}/{config} {seed} {cellular_transcript_copy_number} {copy_number} \" + \\\n",
    "                      f\"{ribosome_copy_number} {total_trna} {ecol_rbs_rate} {binding_rate} {trna_charging_rate} {trna_charging_rate} \" + \\\n",
    "                      f\"../output/{date} {ribosome_speed} {ribosome_footprint}\"\n",
    "                    stream.write(cmd)\n",
    "                    stream.write(\"\\n\")"
   ]
  },
  {
   "cell_type": "code",
   "execution_count": 81,
   "id": "ad7c2907-7548-414c-b6f1-fa8e1ca9c0f7",
   "metadata": {},
   "outputs": [
    {
     "name": "stderr",
     "output_type": "stream",
     "text": [
      "/tmp/ipykernel_1418313/3925339351.py:30: SettingWithCopyWarning: \n",
      "A value is trying to be set on a copy of a slice from a DataFrame.\n",
      "Try using .loc[row_indexer,col_indexer] = value instead\n",
      "\n",
      "See the caveats in the documentation: https://pandas.pydata.org/pandas-docs/stable/user_guide/indexing.html#returning-a-view-versus-a-copy\n",
      "  df_master[\"codon\"] = df_master[\"codon\"].div(1).round(1)\n"
     ]
    }
   ],
   "source": [
    "ribosome_binding_rates = [1500.0, 10000.0, 15000.0, 100000.0, 150000.0, 1000000.0] + \n",
    "df_master = None\n",
    "\n",
    "for copy_number in transgene_transcript_copy_number:\n",
    "    df_copy = None\n",
    "    for binding_rate in ribosome_binding_rates:\n",
    "        df_binding = None\n",
    "        for codons in codon_comps_2:\n",
    "            path = f\"../output/{date}/two_codon_multi_transcript_0.9_0.1_{codons[0]}_{codons[1]}_0.9_0.1\" + \\\n",
    "                   f\"_{cellular_transcript_copy_number}_{copy_number}_{ribosome_copy_number}_{total_trna}\" + \\\n",
    "                   f\"_{ecol_rbs_rate}_{binding_rate}_{trna_charging_rate}_{trna_charging_rate}\"\n",
    "            tmp = get_average_protein(path, 0.5, 500, 3)\n",
    "            tmp[\"codon\"] = float(codons[0])\n",
    "            tmp[\"species\"] = tmp[\"species\"].replace({\"__ribosome\": \"free ribosome\"})\n",
    "            if df_binding is not None:\n",
    "                df_binding = df_binding.append(tmp, ignore_index=True)\n",
    "            else:\n",
    "                df_binding = tmp\n",
    "        df_binding[\"gfp_rbs\"] = binding_rate\n",
    "        if df_copy is not None:\n",
    "            df_copy = df_copy.append(df_binding, ignore_index=True)\n",
    "        else:\n",
    "            df_copy = df_binding\n",
    "    df_copy[\"copy_number\"] = copy_number\n",
    "    if df_master is not None:\n",
    "        df_master = df_master.append(df_copy, ignore_index=True)\n",
    "    else:\n",
    "        df_master = df_copy\n",
    "\n",
    "df_master = df_master[(df_master.time == 500.0)]\n",
    "df_master[\"codon\"] = df_master[\"codon\"].div(1).round(1)"
   ]
  },
  {
   "cell_type": "code",
   "execution_count": 90,
   "id": "6c7cd7ce-8af6-49da-b9fe-bf00b948bc27",
   "metadata": {},
   "outputs": [],
   "source": [
    "#df_master[df_master.species == \"free ribosome\"]"
   ]
  },
  {
   "cell_type": "code",
   "execution_count": 91,
   "id": "72d26920-deed-4d64-9225-d0377bd80b27",
   "metadata": {},
   "outputs": [],
   "source": [
    "df = df_master[(df_master.copy_number == 10)]\n",
    "#df = df[(df.species == \"cellularProtein\") | (df.species == \"GFP\")]\n",
    "df = df.pivot_table(index=['gfp_rbs', 'codon'], columns='species', values='protein')"
   ]
  },
  {
   "cell_type": "code",
   "execution_count": 41,
   "id": "9c7a0afa-5a38-4c66-99ed-fe8ee846b1ca",
   "metadata": {},
   "outputs": [],
   "source": [
    "rcParams['figure.figsize'] = [7, 4]"
   ]
  },
  {
   "cell_type": "code",
   "execution_count": 84,
   "id": "f84f3e3d-6520-4685-9bfd-1e471c229340",
   "metadata": {},
   "outputs": [
    {
     "data": {
      "text/plain": [
       "<matplotlib.legend.Legend at 0x7fdad2231820>"
      ]
     },
     "execution_count": 84,
     "metadata": {},
     "output_type": "execute_result"
    },
    {
     "data": {
      "image/png": "[encoded data removed]",
      "text/plain": [
       "<Figure size 504x288 with 1 Axes>"
      ]
     },
     "metadata": {
      "needs_background": "light"
     },
     "output_type": "display_data"
    }
   ],
   "source": [
    "df\n",
    "sns.lineplot(data=df, x = \"GFP\", y = \"cellularProtein\", hue = \"codon\", linewidth=2.5)\n",
    "#plt.xscale(\"log\")\n",
    "plt.xlabel(\"GFP expression\")\n",
    "plt.ylabel(\"Background gene expression\")\n",
    "#plt.legend(title=\"Fraction preferred\\ncodons (transgene)\")\n",
    "handles, labels = plt.gca().get_legend_handles_labels()\n",
    "plt.legend(reversed(handles), reversed(labels), title=\"Fraction preferred codons\", loc=\"lower right\")"
   ]
  },
  {
   "cell_type": "code",
   "execution_count": 85,
   "id": "25668dad-e77b-4118-bcf2-ae34e644f8d5",
   "metadata": {},
   "outputs": [
    {
     "data": {
      "text/plain": [
       "<matplotlib.legend.Legend at 0x7fdad2644970>"
      ]
     },
     "execution_count": 85,
     "metadata": {},
     "output_type": "execute_result"
    },
    {
     "data": {
      "image/png": "[encoded data removed]",
      "text/plain": [
       "<Figure size 504x288 with 1 Axes>"
      ]
     },
     "metadata": {
      "needs_background": "light"
     },
     "output_type": "display_data"
    }
   ],
   "source": [
    "g = sns.lineplot(data=df, x = \"gfp_rbs\", y = \"free ribosome\", hue = \"codon\", linewidth=2.5)\n",
    "plt.xscale(\"log\")\n",
    "plt.xlabel(\"RBS strength\")\n",
    "plt.ylabel(\"Free ribosomes\")\n",
    "#plt.legend(title=\"Fraction preferred\\ncodons (transgene)\")\n",
    "handles, labels = plt.gca().get_legend_handles_labels()\n",
    "plt.legend(reversed(handles), reversed(labels), title=\"Fraction preferred codons\", loc=\"lower left\")\n",
    "#g.set_xticklabels(['0', '0', '2', '4', '6', '8', '10'])"
   ]
  },
  {
   "cell_type": "code",
   "execution_count": 86,
   "id": "9f9a4777-1ba2-4b92-8e20-1b688eb2676d",
   "metadata": {},
   "outputs": [
    {
     "data": {
      "text/plain": [
       "<matplotlib.legend.Legend at 0x7fdad21b69a0>"
      ]
     },
     "execution_count": 86,
     "metadata": {},
     "output_type": "execute_result"
    },
    {
     "data": {
      "image/png": "[encoded data removed]",
      "text/plain": [
       "<Figure size 504x288 with 1 Axes>"
      ]
     },
     "metadata": {
      "needs_background": "light"
     },
     "output_type": "display_data"
    }
   ],
   "source": [
    "g = sns.lineplot(data=df, x = \"gfp_rbs\", y = \"ATA_charged\", hue = \"codon\", linewidth=2.5)\n",
    "plt.xscale(\"log\")\n",
    "plt.xlabel(\"RBS strength\")\n",
    "plt.ylabel(\"Charged rare tRNA\")\n",
    "#plt.legend(title=\"Fraction preferred\\ncodons (transgene)\")\n",
    "handles, labels = plt.gca().get_legend_handles_labels()\n",
    "plt.legend(reversed(handles), reversed(labels), title=\"Fraction preferred codons\", loc=\"lower left\")\n",
    "#g.set_xticklabels(['0', '0', '2', '4', '6', '8', '10'])"
   ]
  },
  {
   "cell_type": "code",
   "execution_count": 87,
   "id": "c3bec5ce-fb4b-433e-b3a0-74f330f0f61e",
   "metadata": {},
   "outputs": [
    {
     "data": {
      "text/plain": [
       "<matplotlib.legend.Legend at 0x7fdad2082a90>"
      ]
     },
     "execution_count": 87,
     "metadata": {},
     "output_type": "execute_result"
    },
    {
     "data": {
      "image/png": "[encoded data removed]",
      "text/plain": [
       "<Figure size 504x288 with 1 Axes>"
      ]
     },
     "metadata": {
      "needs_background": "light"
     },
     "output_type": "display_data"
    }
   ],
   "source": [
    "g = sns.lineplot(data=df, x = \"gfp_rbs\", y = \"TTT_charged\", hue = \"codon\", linewidth=2.5)\n",
    "plt.xscale(\"log\")\n",
    "plt.xlabel(\"RBS strength\")\n",
    "plt.ylabel(\"Charged preferred tRNA\")\n",
    "#plt.legend(title=\"Fraction preferred\\ncodons (transgene)\")\n",
    "handles, labels = plt.gca().get_legend_handles_labels()\n",
    "plt.legend(reversed(handles), reversed(labels), title=\"Fraction preferred codons\", loc=\"lower left\")\n",
    "#g.set_xticklabels(['0', '0', '2', '4', '6', '8', '10'])"
   ]
  },
  {
   "cell_type": "code",
   "execution_count": 101,
   "id": "9d18ae0f-748f-4a63-9ac4-94f6aa6f826a",
   "metadata": {},
   "outputs": [],
   "source": [
    "# simulation parameters \n",
    "# ribosome speed halved\n",
    "time_limit = 500\n",
    "time_step = 5\n",
    "transcript_lens = [1000, 300]\n",
    "cellular_transcript_copy_number = 50\n",
    "gfp_transcript_copy_number = 10\n",
    "ribosome_copy_number = 300\n",
    "total_trna = 1500\n",
    "ecol_rbs_rate = 100000.0\n",
    "ribosome_binding_rates = 10.0\n",
    "trna_charging_rate = 100.0\n",
    "transcript_names = [\"cellularProtein\", \"GFP\"]\n",
    "trna_composition = (0.9, 0.1)\n",
    "ecol_mrna_composition = (0.9, 0.1)\n",
    "gfp_mrna_composition = (0.1, 0.9)\n",
    "ribosome_speed = 0.5\n",
    "ribosome_footprint = 15\n",
    "\n",
    "date = \"jan-16-2024\""
   ]
  },
  {
   "cell_type": "code",
   "execution_count": 275,
   "id": "4a5d685d-6b0b-4756-b490-5bf4563feaf4",
   "metadata": {},
   "outputs": [],
   "source": [
    "# simulation parameters \n",
    "# ribosome speed halved\n",
    "time_limit = 500\n",
    "time_step = 5\n",
    "transcript_lens = [1000, 300]\n",
    "cellular_transcript_copy_number = 50\n",
    "gfp_transcript_copy_number = 10\n",
    "ribosome_copy_number = 300\n",
    "total_trna = 1500\n",
    "ecol_rbs_rate = 100000.0\n",
    "ribosome_binding_rates = 10.0\n",
    "trna_charging_rate = 100.0\n",
    "transcript_names = [\"cellularProtein\", \"GFP\"]\n",
    "trna_composition = (0.9, 0.1)\n",
    "ecol_mrna_composition = (0.7, 0.3) # less optimal e. coli codon compositions\n",
    "gfp_mrna_composition = (0.1, 0.9)\n",
    "ribosome_speed = 0.5\n",
    "ribosome_footprint = 15\n",
    "\n",
    "date = \"jan-16-2024-final\""
   ]
  },
  {
   "cell_type": "code",
   "execution_count": 273,
   "id": "80afb849-7903-4da5-9cf7-b702b434e656",
   "metadata": {},
   "outputs": [
    {
     "name": "stdout",
     "output_type": "stream",
     "text": [
      "mkdir: cannot create directory ‘../yaml/jan-16-2024-final’: File exists\n",
      "mkdir: cannot create directory ‘../output/jan-16-2024-final’: File exists\n"
     ]
    }
   ],
   "source": [
    "!mkdir ../yaml/jan-16-2024-final\n",
    "!mkdir ../output/jan-16-2024-final"
   ]
  },
  {
   "cell_type": "code",
   "execution_count": 276,
   "id": "66798192-8777-4813-9253-4744872a47f4",
   "metadata": {},
   "outputs": [],
   "source": [
    "serializer = SerializeTwoCodonMultiTranscript(transcript_lens=transcript_lens,\n",
    "                                                       codon_comps=[ecol_mrna_composition, gfp_mrna_composition],\n",
    "                                                       trna_proportion=trna_composition,\n",
    "                                                       transcript_names=transcript_names,\n",
    "                                                       time_limit=time_limit,\n",
    "                                                       time_step=time_step)\n",
    "serializer.serialize(f\"../yaml/{date}\")"
   ]
  },
  {
   "cell_type": "code",
   "execution_count": 277,
   "id": "863032c2-83e9-416c-b36b-a4ae77235a19",
   "metadata": {},
   "outputs": [],
   "source": [
    "configs = os.listdir(f\"../yaml/{date}\")\n",
    "with open(f\"../scripts/cmd_files/{date}.txt\", \"w\") as stream:\n",
    "    for config in configs:\n",
    "        for seed in range(1, 4):\n",
    "            cmd = f\"python3 twocodonmultitranscript.py ../yaml/{date}/{config} {seed} {cellular_transcript_copy_number} {gfp_transcript_copy_number} \" + \\\n",
    "              f\"{ribosome_copy_number} {total_trna} {ecol_rbs_rate} {ribosome_binding_rates} {trna_charging_rate} {trna_charging_rate} \" + \\\n",
    "              f\"../output/{date} {ribosome_speed} {ribosome_footprint}\"\n",
    "            stream.write(cmd)\n",
    "            stream.write(\"\\n\")"
   ]
  },
  {
   "cell_type": "code",
   "execution_count": 110,
   "id": "5f1a5a27-9120-41bb-a17c-e4cbb80b536a",
   "metadata": {},
   "outputs": [],
   "source": [
    "path = f\"../output/{date}/two_codon_multi_transcript_0.9_0.1_0.1_0.9_0.9_0.1\" + \\\n",
    "                   f\"_{cellular_transcript_copy_number}_{gfp_transcript_copy_number}_{ribosome_copy_number}_{total_trna}\" + \\\n",
    "                   f\"_{ecol_rbs_rate}_{ribosome_binding_rates}_{trna_charging_rate}_{trna_charging_rate}\"\n",
    "df = get_average_protein_no_delta(path, 200, 3)\n",
    "df[\"species\"] = df[\"species\"].replace({\"__ribosome\": \"free ribosome\"})"
   ]
  },
  {
   "cell_type": "code",
   "execution_count": 111,
   "id": "025e8caa-13c2-47c8-aeaf-814043c940ce",
   "metadata": {},
   "outputs": [
    {
     "data": {
      "text/html": [
       "<div>\n",
       "<style scoped>\n",
       "    .dataframe tbody tr th:only-of-type {\n",
       "        vertical-align: middle;\n",
       "    }\n",
       "\n",
       "    .dataframe tbody tr th {\n",
       "        vertical-align: top;\n",
       "    }\n",
       "\n",
       "    .dataframe thead th {\n",
       "        text-align: right;\n",
       "    }\n",
       "</style>\n",
       "<table border=\"1\" class=\"dataframe\">\n",
       "  <thead>\n",
       "    <tr style=\"text-align: right;\">\n",
       "      <th></th>\n",
       "      <th>time</th>\n",
       "      <th>species</th>\n",
       "      <th>protein</th>\n",
       "    </tr>\n",
       "  </thead>\n",
       "  <tbody>\n",
       "    <tr>\n",
       "      <th>0</th>\n",
       "      <td>0.0</td>\n",
       "      <td>ATA_charged</td>\n",
       "      <td>150.000000</td>\n",
       "    </tr>\n",
       "    <tr>\n",
       "      <th>1</th>\n",
       "      <td>0.0</td>\n",
       "      <td>ATA_uncharged</td>\n",
       "      <td>0.000000</td>\n",
       "    </tr>\n",
       "    <tr>\n",
       "      <th>2</th>\n",
       "      <td>0.0</td>\n",
       "      <td>TTT_charged</td>\n",
       "      <td>1350.000000</td>\n",
       "    </tr>\n",
       "    <tr>\n",
       "      <th>3</th>\n",
       "      <td>0.0</td>\n",
       "      <td>TTT_uncharged</td>\n",
       "      <td>0.000000</td>\n",
       "    </tr>\n",
       "    <tr>\n",
       "      <th>4</th>\n",
       "      <td>0.0</td>\n",
       "      <td>__GFP_rbs</td>\n",
       "      <td>10.000000</td>\n",
       "    </tr>\n",
       "    <tr>\n",
       "      <th>...</th>\n",
       "      <td>...</td>\n",
       "      <td>...</td>\n",
       "      <td>...</td>\n",
       "    </tr>\n",
       "    <tr>\n",
       "      <th>362</th>\n",
       "      <td>225.0</td>\n",
       "      <td>TTT_uncharged</td>\n",
       "      <td>480.000000</td>\n",
       "    </tr>\n",
       "    <tr>\n",
       "      <th>363</th>\n",
       "      <td>225.0</td>\n",
       "      <td>__GFP_rbs</td>\n",
       "      <td>10.000000</td>\n",
       "    </tr>\n",
       "    <tr>\n",
       "      <th>364</th>\n",
       "      <td>225.0</td>\n",
       "      <td>__cellularProtein_rbs</td>\n",
       "      <td>49.333333</td>\n",
       "    </tr>\n",
       "    <tr>\n",
       "      <th>365</th>\n",
       "      <td>225.0</td>\n",
       "      <td>free ribosome</td>\n",
       "      <td>91.666667</td>\n",
       "    </tr>\n",
       "    <tr>\n",
       "      <th>366</th>\n",
       "      <td>225.0</td>\n",
       "      <td>cellularProtein</td>\n",
       "      <td>11102.000000</td>\n",
       "    </tr>\n",
       "  </tbody>\n",
       "</table>\n",
       "<p>367 rows × 3 columns</p>\n",
       "</div>"
      ],
      "text/plain": [
       "      time                species       protein\n",
       "0      0.0            ATA_charged    150.000000\n",
       "1      0.0          ATA_uncharged      0.000000\n",
       "2      0.0            TTT_charged   1350.000000\n",
       "3      0.0          TTT_uncharged      0.000000\n",
       "4      0.0              __GFP_rbs     10.000000\n",
       "..     ...                    ...           ...\n",
       "362  225.0          TTT_uncharged    480.000000\n",
       "363  225.0              __GFP_rbs     10.000000\n",
       "364  225.0  __cellularProtein_rbs     49.333333\n",
       "365  225.0          free ribosome     91.666667\n",
       "366  225.0        cellularProtein  11102.000000\n",
       "\n",
       "[367 rows x 3 columns]"
      ]
     },
     "execution_count": 111,
     "metadata": {},
     "output_type": "execute_result"
    }
   ],
   "source": [
    "df"
   ]
  },
  {
   "cell_type": "code",
   "execution_count": 126,
   "id": "e7913438-8c94-46cd-9a35-319185de281a",
   "metadata": {},
   "outputs": [
    {
     "name": "stderr",
     "output_type": "stream",
     "text": [
      "/tmp/ipykernel_1418313/416115677.py:6: SettingWithCopyWarning: \n",
      "A value is trying to be set on a copy of a slice from a DataFrame.\n",
      "Try using .loc[row_indexer,col_indexer] = value instead\n",
      "\n",
      "See the caveats in the documentation: https://pandas.pydata.org/pandas-docs/stable/user_guide/indexing.html#returning-a-view-versus-a-copy\n",
      "  data[\"percent total\"] = data.protein / totals\n"
     ]
    }
   ],
   "source": [
    "data = df[(df.species == 'TTT_charged') | (df.species == 'ATA_charged') | (df.species == 'free ribosome')]\n",
    "species_totals = {\"free ribosome\": ribosome_copy_number,\n",
    "                 \"TTT_charged\": total_trna*trna_composition[0],\n",
    "                 \"ATA_charged\": total_trna*trna_composition[1]}\n",
    "totals = [species_totals[name] for name in data[\"species\"]]\n",
    "data[\"percent total\"] = data.protein / totals"
   ]
  },
  {
   "cell_type": "code",
   "execution_count": 127,
   "id": "77997b06-d005-4b83-b040-3213d60198db",
   "metadata": {},
   "outputs": [
    {
     "data": {
      "image/png": "[encoded data removed]",
      "text/plain": [
       "<Figure size 504x288 with 1 Axes>"
      ]
     },
     "metadata": {
      "needs_background": "light"
     },
     "output_type": "display_data"
    }
   ],
   "source": [
    "rcParams['figure.figsize'] = [7, 4]\n",
    "g = sns.lineplot(data=data, x=\"time\", y=\"percent total\", hue=\"species\")\n",
    "#n = analytical_rib(rate, 3)\n",
    "#plt.gca().axhline(n, ls='--', color=\"black\", alpha=0.5)"
   ]
  },
  {
   "cell_type": "code",
   "execution_count": 132,
   "id": "b971ce53-2d57-4d74-ab52-54dea32a8ad4",
   "metadata": {},
   "outputs": [],
   "source": [
    "# simulation parameters \n",
    "# ribosome speed halved\n",
    "time_limit = 100\n",
    "time_step = 5\n",
    "transcript_lens = [1200, 300]\n",
    "cellular_transcript_copy_number = 50\n",
    "gfp_transcript_copy_number = 10\n",
    "ribosome_copy_number = 300\n",
    "total_trna = 1500\n",
    "ecol_rbs_rate = 100000.0\n",
    "ribosome_binding_rates = 10.0\n",
    "trna_charging_rate = 100.0\n",
    "transcript_names = [\"cellularProtein\", \"GFP\"]\n",
    "trna_composition = (0.9, 0.1)\n",
    "ecol_mrna_composition = (0.9, 0.1)\n",
    "gfp_mrna_composition = (0.1, 0.9)\n",
    "ribosome_speed = 0.5\n",
    "ribosome_footprint = 15\n",
    "\n",
    "date = \"jan-16-b-2024\""
   ]
  },
  {
   "cell_type": "code",
   "execution_count": 131,
   "id": "335a4d82-f466-4047-af4c-eb98908969ea",
   "metadata": {},
   "outputs": [],
   "source": [
    "!mkdir ../yaml/jan-16-b-2024\n",
    "!mkdir ../output/jan-16-b-2024"
   ]
  },
  {
   "cell_type": "code",
   "execution_count": 133,
   "id": "66d1e1f4-630e-4792-bbce-a65464050766",
   "metadata": {},
   "outputs": [],
   "source": [
    "serializer = SerializeTwoCodonMultiTranscript(transcript_lens=transcript_lens,\n",
    "                                                       codon_comps=[ecol_mrna_composition, gfp_mrna_composition],\n",
    "                                                       trna_proportion=trna_composition,\n",
    "                                                       transcript_names=transcript_names,\n",
    "                                                       time_limit=time_limit,\n",
    "                                                       time_step=time_step)\n",
    "serializer.serialize(f\"../yaml/{date}\")"
   ]
  },
  {
   "cell_type": "code",
   "execution_count": 134,
   "id": "60ab7b03-4efb-4e40-b0e2-5fd52179b8e2",
   "metadata": {},
   "outputs": [],
   "source": [
    "configs = os.listdir(f\"../yaml/{date}\")\n",
    "with open(f\"../scripts/cmd_files/{date}.txt\", \"w\") as stream:\n",
    "    for config in configs:\n",
    "        for seed in range(1, 4):\n",
    "            cmd = f\"python3 twocodonmultitranscript.py ../yaml/{date}/{config} {seed} {cellular_transcript_copy_number} {gfp_transcript_copy_number} \" + \\\n",
    "              f\"{ribosome_copy_number} {total_trna} {ecol_rbs_rate} {ribosome_binding_rates} {trna_charging_rate} {trna_charging_rate} \" + \\\n",
    "              f\"../output/{date} {ribosome_speed} {ribosome_footprint}\"\n",
    "            stream.write(cmd)\n",
    "            stream.write(\"\\n\")"
   ]
  },
  {
   "cell_type": "code",
   "execution_count": 278,
   "id": "5edecd8a-ea62-4b82-8a42-fc8a8244b5f8",
   "metadata": {},
   "outputs": [],
   "source": [
    "path = f\"../output/{date}/two_codon_multi_transcript_0.7_0.3_0.1_0.9_0.9_0.1\" + \\\n",
    "                   f\"_{cellular_transcript_copy_number}_{gfp_transcript_copy_number}_{ribosome_copy_number}_{total_trna}\" + \\\n",
    "                   f\"_{ecol_rbs_rate}_{ribosome_binding_rates}_{trna_charging_rate}_{trna_charging_rate}\"\n",
    "df = get_average_protein_no_delta(path, 100, 3)\n",
    "df[\"species\"] = df[\"species\"].replace({\"__ribosome\": \"free ribosome\"})"
   ]
  },
  {
   "cell_type": "code",
   "execution_count": 279,
   "id": "cc7ed513-be62-4abe-b5c0-b8df1a08b0ae",
   "metadata": {},
   "outputs": [
    {
     "name": "stderr",
     "output_type": "stream",
     "text": [
      "/tmp/ipykernel_1418313/416115677.py:6: SettingWithCopyWarning: \n",
      "A value is trying to be set on a copy of a slice from a DataFrame.\n",
      "Try using .loc[row_indexer,col_indexer] = value instead\n",
      "\n",
      "See the caveats in the documentation: https://pandas.pydata.org/pandas-docs/stable/user_guide/indexing.html#returning-a-view-versus-a-copy\n",
      "  data[\"percent total\"] = data.protein / totals\n"
     ]
    }
   ],
   "source": [
    "data = df[(df.species == 'TTT_charged') | (df.species == 'ATA_charged') | (df.species == 'free ribosome')]\n",
    "species_totals = {\"free ribosome\": ribosome_copy_number,\n",
    "                 \"TTT_charged\": total_trna*trna_composition[0],\n",
    "                 \"ATA_charged\": total_trna*trna_composition[1]}\n",
    "totals = [species_totals[name] for name in data[\"species\"]]\n",
    "data[\"percent total\"] = data.protein / totals"
   ]
  },
  {
   "cell_type": "code",
   "execution_count": 280,
   "id": "e6ef98b2-c3b9-4cdb-804b-5f8778ffba57",
   "metadata": {},
   "outputs": [
    {
     "data": {
      "image/png": "[encoded data removed]",
      "text/plain": [
       "<Figure size 504x288 with 1 Axes>"
      ]
     },
     "metadata": {
      "needs_background": "light"
     },
     "output_type": "display_data"
    }
   ],
   "source": [
    "rcParams['figure.figsize'] = [7, 4]\n",
    "g = sns.lineplot(data=data, x=\"time\", y=\"percent total\", hue=\"species\")\n",
    "#n = analytical_rib(rate, 3)\n",
    "#plt.gca().axhline(n, ls='--', color=\"black\", alpha=0.5)"
   ]
  },
  {
   "cell_type": "code",
   "execution_count": 140,
   "id": "38157981-c2c6-4e79-ac92-2dbff9347881",
   "metadata": {},
   "outputs": [],
   "source": [
    "# simulation parameters \n",
    "# ribosome speed halved\n",
    "time_limit = 100\n",
    "time_step = 5\n",
    "transcript_lens = [1000, 300]\n",
    "cellular_transcript_copy_number = 50\n",
    "gfp_transcript_copy_number = 10\n",
    "ribosome_copy_number = 300\n",
    "total_trna = 1500\n",
    "ecol_rbs_rate = 100000.0\n",
    "ribosome_binding_rates = 10.0\n",
    "trna_charging_rate = 100.0\n",
    "transcript_names = [\"cellularProtein\", \"GFP\"]\n",
    "trna_composition = (0.9, 0.1)\n",
    "ecol_mrna_composition = (0.9, 0.1)\n",
    "gfp_mrna_composition = (0.1, 0.9)\n",
    "ribosome_speed = 0.1\n",
    "ribosome_footprint = 15\n",
    "\n",
    "date = \"jan-16-c-2024\""
   ]
  },
  {
   "cell_type": "code",
   "execution_count": 139,
   "id": "653bee3d-a4aa-488a-927e-c1383491d18c",
   "metadata": {},
   "outputs": [],
   "source": [
    "!mkdir ../yaml/jan-16-c-2024\n",
    "!mkdir ../output/jan-16-c-2024"
   ]
  },
  {
   "cell_type": "code",
   "execution_count": 141,
   "id": "6ad6e943-b7d9-443d-a915-1f3370d01797",
   "metadata": {},
   "outputs": [],
   "source": [
    "serializer = SerializeTwoCodonMultiTranscript(transcript_lens=transcript_lens,\n",
    "                                                       codon_comps=[ecol_mrna_composition, gfp_mrna_composition],\n",
    "                                                       trna_proportion=trna_composition,\n",
    "                                                       transcript_names=transcript_names,\n",
    "                                                       time_limit=time_limit,\n",
    "                                                       time_step=time_step)\n",
    "serializer.serialize(f\"../yaml/{date}\")"
   ]
  },
  {
   "cell_type": "code",
   "execution_count": 142,
   "id": "fac27d14-c394-40d3-a203-b5dcc93ccc3d",
   "metadata": {},
   "outputs": [],
   "source": [
    "configs = os.listdir(f\"../yaml/{date}\")\n",
    "with open(f\"../scripts/cmd_files/{date}.txt\", \"w\") as stream:\n",
    "    for config in configs:\n",
    "        for seed in range(1, 4):\n",
    "            cmd = f\"python3 twocodonmultitranscript.py ../yaml/{date}/{config} {seed} {cellular_transcript_copy_number} {gfp_transcript_copy_number} \" + \\\n",
    "              f\"{ribosome_copy_number} {total_trna} {ecol_rbs_rate} {ribosome_binding_rates} {trna_charging_rate} {trna_charging_rate} \" + \\\n",
    "              f\"../output/{date} {ribosome_speed} {ribosome_footprint}\"\n",
    "            stream.write(cmd)\n",
    "            stream.write(\"\\n\")"
   ]
  },
  {
   "cell_type": "code",
   "execution_count": 143,
   "id": "bb39ee84-c7d8-48c7-b8a7-58121ce5586e",
   "metadata": {},
   "outputs": [],
   "source": [
    "path = f\"../output/{date}/two_codon_multi_transcript_0.9_0.1_0.1_0.9_0.9_0.1\" + \\\n",
    "                   f\"_{cellular_transcript_copy_number}_{gfp_transcript_copy_number}_{ribosome_copy_number}_{total_trna}\" + \\\n",
    "                   f\"_{ecol_rbs_rate}_{ribosome_binding_rates}_{trna_charging_rate}_{trna_charging_rate}\"\n",
    "df = get_average_protein_no_delta(path, 100, 3)\n",
    "df[\"species\"] = df[\"species\"].replace({\"__ribosome\": \"free ribosome\"})"
   ]
  },
  {
   "cell_type": "code",
   "execution_count": 144,
   "id": "9d03a580-0d53-4e4b-a875-9e9f51d44d27",
   "metadata": {},
   "outputs": [
    {
     "name": "stderr",
     "output_type": "stream",
     "text": [
      "/tmp/ipykernel_1418313/416115677.py:6: SettingWithCopyWarning: \n",
      "A value is trying to be set on a copy of a slice from a DataFrame.\n",
      "Try using .loc[row_indexer,col_indexer] = value instead\n",
      "\n",
      "See the caveats in the documentation: https://pandas.pydata.org/pandas-docs/stable/user_guide/indexing.html#returning-a-view-versus-a-copy\n",
      "  data[\"percent total\"] = data.protein / totals\n"
     ]
    }
   ],
   "source": [
    "data = df[(df.species == 'TTT_charged') | (df.species == 'ATA_charged') | (df.species == 'free ribosome')]\n",
    "species_totals = {\"free ribosome\": ribosome_copy_number,\n",
    "                 \"TTT_charged\": total_trna*trna_composition[0],\n",
    "                 \"ATA_charged\": total_trna*trna_composition[1]}\n",
    "totals = [species_totals[name] for name in data[\"species\"]]\n",
    "data[\"percent total\"] = data.protein / totals"
   ]
  },
  {
   "cell_type": "code",
   "execution_count": 145,
   "id": "2ed04204-b620-400c-b4ec-49d9d34265d4",
   "metadata": {},
   "outputs": [
    {
     "data": {
      "image/png": "[encoded data removed]",
      "text/plain": [
       "<Figure size 504x288 with 1 Axes>"
      ]
     },
     "metadata": {
      "needs_background": "light"
     },
     "output_type": "display_data"
    }
   ],
   "source": [
    "rcParams['figure.figsize'] = [7, 4]\n",
    "g = sns.lineplot(data=data, x=\"time\", y=\"percent total\", hue=\"species\")\n",
    "#n = analytical_rib(rate, 3)\n",
    "#plt.gca().axhline(n, ls='--', color=\"black\", alpha=0.5)"
   ]
  },
  {
   "cell_type": "code",
   "execution_count": 166,
   "id": "c77288a9-53ce-4cf5-aea6-92f2b3bd578f",
   "metadata": {},
   "outputs": [],
   "source": [
    "# simulation parameters \n",
    "# ribosome speed halved\n",
    "time_limit = 200\n",
    "time_step = 5\n",
    "transcript_lens = [1000, 300]\n",
    "cellular_transcript_copy_number = 50\n",
    "gfp_transcript_copy_number = [10, 20, 50]\n",
    "ribosome_copy_number = 300\n",
    "total_trna = 1500\n",
    "ecol_rbs_rate = 100000.0\n",
    "ribosome_binding_rates = [100000.0, 150000.0, 1000000.0, 1500000.0, 10000000.0]\n",
    "trna_charging_rate = 100.0\n",
    "transcript_names = [\"cellularProtein\", \"GFP\"]\n",
    "trna_composition = [(0.9, 0.1)]\n",
    "ecol_mrna_composition = (0.9, 0.1)\n",
    "gfp_mrna_compositions = [(0.99, 0.01), (0.9, 0.1), (0.5, 0.5), (0.1, 0.9)]\n",
    "ribosome_speed = 0.5\n",
    "ribosome_footprint = 15\n",
    "\n",
    "date = \"jan-16-d-2024\""
   ]
  },
  {
   "cell_type": "code",
   "execution_count": 198,
   "id": "24ab0cd2-8d52-41d3-9b38-99f0a7dff3d4",
   "metadata": {},
   "outputs": [],
   "source": [
    "# simulation parameters \n",
    "# ribosome speed halved\n",
    "time_limit = 200\n",
    "time_step = 5\n",
    "transcript_lens = [1000, 300]\n",
    "cellular_transcript_copy_number = 50\n",
    "gfp_transcript_copy_number = [10, 20, 50]\n",
    "ribosome_copy_number = 300\n",
    "total_trna = 1500\n",
    "ecol_rbs_rate = 100000.0\n",
    "ribosome_binding_rates = [250000.0, 500000.0, 750000.0, 2500000.0, 7500000.0]\n",
    "trna_charging_rate = 100.0\n",
    "transcript_names = [\"cellularProtein\", \"GFP\"]\n",
    "trna_composition = [(0.9, 0.1)]\n",
    "ecol_mrna_composition = (0.9, 0.1)\n",
    "gfp_mrna_compositions = [(0.99, 0.01), (0.9, 0.1), (0.5, 0.5), (0.1, 0.9)]\n",
    "ribosome_speed = 0.5\n",
    "ribosome_footprint = 15\n",
    "\n",
    "date = \"jan-16-d-2024\""
   ]
  },
  {
   "cell_type": "code",
   "execution_count": 148,
   "id": "8cb574bb-be09-412f-a416-f3d9c4587ac9",
   "metadata": {},
   "outputs": [],
   "source": [
    "!mkdir ../yaml/jan-16-d-2024\n",
    "!mkdir ../output/jan-16-d-2024"
   ]
  },
  {
   "cell_type": "code",
   "execution_count": 151,
   "id": "44d7708a-5955-4444-9128-e44da81b831a",
   "metadata": {},
   "outputs": [],
   "source": [
    "for trna_prop in trna_composition:\n",
    "    for comp in gfp_mrna_compositions:\n",
    "        serializer = SerializeTwoCodonMultiTranscript(transcript_lens=transcript_lens,\n",
    "                                                       codon_comps=[trna_prop, comp],\n",
    "                                                       trna_proportion=trna_prop,\n",
    "                                                       transcript_names=transcript_names,\n",
    "                                                       time_limit=time_limit,\n",
    "                                                       time_step=time_step)\n",
    "        serializer.serialize(f\"../yaml/{date}\")"
   ]
  },
  {
   "cell_type": "code",
   "execution_count": 199,
   "id": "7bef59b5-b407-4ea4-a6f5-5af9aa5d84a1",
   "metadata": {},
   "outputs": [],
   "source": [
    "configs = os.listdir(f\"../yaml/{date}\")\n",
    "with open(f\"../scripts/cmd_files/{date}.txt\", \"w\") as stream:\n",
    "    for config in configs:\n",
    "        for copy_number in gfp_transcript_copy_number:\n",
    "            for binding_rate in ribosome_binding_rates:\n",
    "                for seed in range(1, 4):\n",
    "                    cmd = f\"python3 twocodonmultitranscript.py ../yaml/{date}/{config} {seed} {cellular_transcript_copy_number} {copy_number} \" + \\\n",
    "                      f\"{ribosome_copy_number} {total_trna} {ecol_rbs_rate} {binding_rate} {trna_charging_rate} {trna_charging_rate} \" + \\\n",
    "                      f\"../output/{date} {ribosome_speed} {ribosome_footprint}\"\n",
    "                    stream.write(cmd)\n",
    "                    stream.write(\"\\n\")"
   ]
  },
  {
   "cell_type": "code",
   "execution_count": 224,
   "id": "0afd9249-2e45-4aaf-8855-f396c7956559",
   "metadata": {},
   "outputs": [
    {
     "data": {
      "text/html": [
       "<div>\n",
       "<style scoped>\n",
       "    .dataframe tbody tr th:only-of-type {\n",
       "        vertical-align: middle;\n",
       "    }\n",
       "\n",
       "    .dataframe tbody tr th {\n",
       "        vertical-align: top;\n",
       "    }\n",
       "\n",
       "    .dataframe thead th {\n",
       "        text-align: right;\n",
       "    }\n",
       "</style>\n",
       "<table border=\"1\" class=\"dataframe\">\n",
       "  <thead>\n",
       "    <tr style=\"text-align: right;\">\n",
       "      <th></th>\n",
       "      <th>time</th>\n",
       "      <th>species</th>\n",
       "      <th>protein</th>\n",
       "      <th>delta</th>\n",
       "      <th>codon</th>\n",
       "      <th>gfp_rbs</th>\n",
       "      <th>copy_number</th>\n",
       "    </tr>\n",
       "  </thead>\n",
       "  <tbody>\n",
       "    <tr>\n",
       "      <th>9</th>\n",
       "      <td>200.0</td>\n",
       "      <td>ATA_charged</td>\n",
       "      <td>100.000000</td>\n",
       "      <td>-2.000000</td>\n",
       "      <td>1.0</td>\n",
       "      <td>100000.0</td>\n",
       "      <td>10</td>\n",
       "    </tr>\n",
       "    <tr>\n",
       "      <th>10</th>\n",
       "      <td>200.0</td>\n",
       "      <td>ATA_uncharged</td>\n",
       "      <td>50.000000</td>\n",
       "      <td>2.000000</td>\n",
       "      <td>1.0</td>\n",
       "      <td>100000.0</td>\n",
       "      <td>10</td>\n",
       "    </tr>\n",
       "    <tr>\n",
       "      <th>11</th>\n",
       "      <td>200.0</td>\n",
       "      <td>GFP</td>\n",
       "      <td>404.000000</td>\n",
       "      <td>79.333333</td>\n",
       "      <td>1.0</td>\n",
       "      <td>100000.0</td>\n",
       "      <td>10</td>\n",
       "    </tr>\n",
       "    <tr>\n",
       "      <th>12</th>\n",
       "      <td>200.0</td>\n",
       "      <td>TTT_charged</td>\n",
       "      <td>881.333333</td>\n",
       "      <td>9.333333</td>\n",
       "      <td>1.0</td>\n",
       "      <td>100000.0</td>\n",
       "      <td>10</td>\n",
       "    </tr>\n",
       "    <tr>\n",
       "      <th>13</th>\n",
       "      <td>200.0</td>\n",
       "      <td>TTT_uncharged</td>\n",
       "      <td>468.666667</td>\n",
       "      <td>-9.333333</td>\n",
       "      <td>1.0</td>\n",
       "      <td>100000.0</td>\n",
       "      <td>10</td>\n",
       "    </tr>\n",
       "    <tr>\n",
       "      <th>...</th>\n",
       "      <td>...</td>\n",
       "      <td>...</td>\n",
       "      <td>...</td>\n",
       "      <td>...</td>\n",
       "      <td>...</td>\n",
       "      <td>...</td>\n",
       "      <td>...</td>\n",
       "    </tr>\n",
       "    <tr>\n",
       "      <th>2155</th>\n",
       "      <td>200.0</td>\n",
       "      <td>TTT_uncharged</td>\n",
       "      <td>7.000000</td>\n",
       "      <td>-8.000000</td>\n",
       "      <td>0.1</td>\n",
       "      <td>7500000.0</td>\n",
       "      <td>50</td>\n",
       "    </tr>\n",
       "    <tr>\n",
       "      <th>2156</th>\n",
       "      <td>200.0</td>\n",
       "      <td>__GFP_rbs</td>\n",
       "      <td>43.000000</td>\n",
       "      <td>0.666667</td>\n",
       "      <td>0.1</td>\n",
       "      <td>7500000.0</td>\n",
       "      <td>50</td>\n",
       "    </tr>\n",
       "    <tr>\n",
       "      <th>2157</th>\n",
       "      <td>200.0</td>\n",
       "      <td>__cellularProtein_rbs</td>\n",
       "      <td>50.000000</td>\n",
       "      <td>0.000000</td>\n",
       "      <td>0.1</td>\n",
       "      <td>7500000.0</td>\n",
       "      <td>50</td>\n",
       "    </tr>\n",
       "    <tr>\n",
       "      <th>2158</th>\n",
       "      <td>200.0</td>\n",
       "      <td>free ribosome</td>\n",
       "      <td>0.666667</td>\n",
       "      <td>0.000000</td>\n",
       "      <td>0.1</td>\n",
       "      <td>7500000.0</td>\n",
       "      <td>50</td>\n",
       "    </tr>\n",
       "    <tr>\n",
       "      <th>2159</th>\n",
       "      <td>200.0</td>\n",
       "      <td>cellularProtein</td>\n",
       "      <td>150.666667</td>\n",
       "      <td>20.333333</td>\n",
       "      <td>0.1</td>\n",
       "      <td>7500000.0</td>\n",
       "      <td>50</td>\n",
       "    </tr>\n",
       "  </tbody>\n",
       "</table>\n",
       "<p>1080 rows × 7 columns</p>\n",
       "</div>"
      ],
      "text/plain": [
       "       time                species     protein      delta  codon    gfp_rbs  \\\n",
       "9     200.0            ATA_charged  100.000000  -2.000000    1.0   100000.0   \n",
       "10    200.0          ATA_uncharged   50.000000   2.000000    1.0   100000.0   \n",
       "11    200.0                    GFP  404.000000  79.333333    1.0   100000.0   \n",
       "12    200.0            TTT_charged  881.333333   9.333333    1.0   100000.0   \n",
       "13    200.0          TTT_uncharged  468.666667  -9.333333    1.0   100000.0   \n",
       "...     ...                    ...         ...        ...    ...        ...   \n",
       "2155  200.0          TTT_uncharged    7.000000  -8.000000    0.1  7500000.0   \n",
       "2156  200.0              __GFP_rbs   43.000000   0.666667    0.1  7500000.0   \n",
       "2157  200.0  __cellularProtein_rbs   50.000000   0.000000    0.1  7500000.0   \n",
       "2158  200.0          free ribosome    0.666667   0.000000    0.1  7500000.0   \n",
       "2159  200.0        cellularProtein  150.666667  20.333333    0.1  7500000.0   \n",
       "\n",
       "      copy_number  \n",
       "9              10  \n",
       "10             10  \n",
       "11             10  \n",
       "12             10  \n",
       "13             10  \n",
       "...           ...  \n",
       "2155           50  \n",
       "2156           50  \n",
       "2157           50  \n",
       "2158           50  \n",
       "2159           50  \n",
       "\n",
       "[1080 rows x 7 columns]"
      ]
     },
     "execution_count": 224,
     "metadata": {},
     "output_type": "execute_result"
    }
   ],
   "source": [
    "ribosome_binding_rates = [100000.0, 150000.0, 1000000.0, 1500000.0, 10000000.0, 250000.0, 500000.0, 750000.0, 2500000.0, 7500000.0]\n",
    "df_master = None\n",
    "\n",
    "for copy_number in gfp_transcript_copy_number:\n",
    "    df_copy = None\n",
    "    for binding_rate in ribosome_binding_rates:\n",
    "        df_binding = None\n",
    "        for codons in gfp_mrna_compositions:\n",
    "            path = f\"../output/{date}/two_codon_multi_transcript_0.9_0.1_{codons[0]}_{codons[1]}_0.9_0.1\" + \\\n",
    "                   f\"_{cellular_transcript_copy_number}_{copy_number}_{ribosome_copy_number}_{total_trna}\" + \\\n",
    "                   f\"_{ecol_rbs_rate}_{binding_rate}_{trna_charging_rate}_{trna_charging_rate}\"\n",
    "            tmp = get_average_protein(path, 0.5, 200, 3)\n",
    "            tmp[\"codon\"] = float(codons[0])\n",
    "            tmp[\"species\"] = tmp[\"species\"].replace({\"__ribosome\": \"free ribosome\"})\n",
    "            if df_binding is not None:\n",
    "                df_binding = df_binding.append(tmp, ignore_index=True)\n",
    "            else:\n",
    "                df_binding = tmp\n",
    "        df_binding[\"gfp_rbs\"] = binding_rate\n",
    "        if df_copy is not None:\n",
    "            df_copy = df_copy.append(df_binding, ignore_index=True)\n",
    "        else:\n",
    "            df_copy = df_binding\n",
    "    df_copy[\"copy_number\"] = copy_number\n",
    "    if df_master is not None:\n",
    "        df_master = df_master.append(df_copy, ignore_index=True)\n",
    "    else:\n",
    "        df_master = df_copy\n",
    "\n",
    "df_master = df_master[(df_master.time == 200.0)]\n",
    "df_master[\"codon\"] = df_master[\"codon\"].div(1).round(1)\n",
    "df_master"
   ]
  },
  {
   "cell_type": "code",
   "execution_count": 240,
   "id": "83b0d080-940c-4166-80ff-0345fa45e99f",
   "metadata": {},
   "outputs": [
    {
     "name": "stderr",
     "output_type": "stream",
     "text": [
      "/tmp/ipykernel_1418313/916239280.py:2: SettingWithCopyWarning: \n",
      "A value is trying to be set on a copy of a slice from a DataFrame.\n",
      "Try using .loc[row_indexer,col_indexer] = value instead\n",
      "\n",
      "See the caveats in the documentation: https://pandas.pydata.org/pandas-docs/stable/user_guide/indexing.html#returning-a-view-versus-a-copy\n",
      "  df[\"gfp_rbs_foldx\"] = df[\"gfp_rbs\"] / ecol_rbs_rate\n"
     ]
    },
    {
     "data": {
      "text/html": [
       "<div>\n",
       "<style scoped>\n",
       "    .dataframe tbody tr th:only-of-type {\n",
       "        vertical-align: middle;\n",
       "    }\n",
       "\n",
       "    .dataframe tbody tr th {\n",
       "        vertical-align: top;\n",
       "    }\n",
       "\n",
       "    .dataframe thead th {\n",
       "        text-align: right;\n",
       "    }\n",
       "</style>\n",
       "<table border=\"1\" class=\"dataframe\">\n",
       "  <thead>\n",
       "    <tr style=\"text-align: right;\">\n",
       "      <th></th>\n",
       "      <th>species</th>\n",
       "      <th>ATA_charged</th>\n",
       "      <th>ATA_uncharged</th>\n",
       "      <th>GFP</th>\n",
       "      <th>TTT_charged</th>\n",
       "      <th>TTT_uncharged</th>\n",
       "      <th>__GFP_rbs</th>\n",
       "      <th>__cellularProtein_rbs</th>\n",
       "      <th>cellularProtein</th>\n",
       "      <th>free ribosome</th>\n",
       "    </tr>\n",
       "    <tr>\n",
       "      <th>gfp_rbs_foldx</th>\n",
       "      <th>codon</th>\n",
       "      <th></th>\n",
       "      <th></th>\n",
       "      <th></th>\n",
       "      <th></th>\n",
       "      <th></th>\n",
       "      <th></th>\n",
       "      <th></th>\n",
       "      <th></th>\n",
       "      <th></th>\n",
       "    </tr>\n",
       "  </thead>\n",
       "  <tbody>\n",
       "    <tr>\n",
       "      <th rowspan=\"4\" valign=\"top\">1.0</th>\n",
       "      <th>0.1</th>\n",
       "      <td>65.333333</td>\n",
       "      <td>84.666667</td>\n",
       "      <td>4037.333333</td>\n",
       "      <td>1150.000000</td>\n",
       "      <td>200.000000</td>\n",
       "      <td>46.000000</td>\n",
       "      <td>50.000000</td>\n",
       "      <td>4431.333333</td>\n",
       "      <td>47.333333</td>\n",
       "    </tr>\n",
       "    <tr>\n",
       "      <th>0.5</th>\n",
       "      <td>78.666667</td>\n",
       "      <td>71.333333</td>\n",
       "      <td>5580.333333</td>\n",
       "      <td>1058.333333</td>\n",
       "      <td>291.666667</td>\n",
       "      <td>48.333333</td>\n",
       "      <td>49.666667</td>\n",
       "      <td>5739.666667</td>\n",
       "      <td>54.666667</td>\n",
       "    </tr>\n",
       "    <tr>\n",
       "      <th>0.9</th>\n",
       "      <td>96.000000</td>\n",
       "      <td>54.000000</td>\n",
       "      <td>8046.333333</td>\n",
       "      <td>838.333333</td>\n",
       "      <td>511.666667</td>\n",
       "      <td>47.666667</td>\n",
       "      <td>48.666667</td>\n",
       "      <td>8044.666667</td>\n",
       "      <td>75.666667</td>\n",
       "    </tr>\n",
       "    <tr>\n",
       "      <th>1.0</th>\n",
       "      <td>108.333333</td>\n",
       "      <td>41.666667</td>\n",
       "      <td>8700.000000</td>\n",
       "      <td>832.000000</td>\n",
       "      <td>518.000000</td>\n",
       "      <td>49.000000</td>\n",
       "      <td>50.000000</td>\n",
       "      <td>8630.000000</td>\n",
       "      <td>87.333333</td>\n",
       "    </tr>\n",
       "    <tr>\n",
       "      <th rowspan=\"4\" valign=\"top\">1.5</th>\n",
       "      <th>0.1</th>\n",
       "      <td>59.333333</td>\n",
       "      <td>90.666667</td>\n",
       "      <td>4624.000000</td>\n",
       "      <td>1175.000000</td>\n",
       "      <td>175.000000</td>\n",
       "      <td>45.666667</td>\n",
       "      <td>49.666667</td>\n",
       "      <td>3430.666667</td>\n",
       "      <td>32.000000</td>\n",
       "    </tr>\n",
       "    <tr>\n",
       "      <th>0.5</th>\n",
       "      <td>80.000000</td>\n",
       "      <td>70.000000</td>\n",
       "      <td>6774.333333</td>\n",
       "      <td>1123.666667</td>\n",
       "      <td>226.333333</td>\n",
       "      <td>48.333333</td>\n",
       "      <td>49.666667</td>\n",
       "      <td>4677.333333</td>\n",
       "      <td>51.333333</td>\n",
       "    </tr>\n",
       "    <tr>\n",
       "      <th>0.9</th>\n",
       "      <td>93.000000</td>\n",
       "      <td>57.000000</td>\n",
       "      <td>10939.000000</td>\n",
       "      <td>853.000000</td>\n",
       "      <td>497.000000</td>\n",
       "      <td>47.333333</td>\n",
       "      <td>49.666667</td>\n",
       "      <td>7402.666667</td>\n",
       "      <td>74.000000</td>\n",
       "    </tr>\n",
       "    <tr>\n",
       "      <th>1.0</th>\n",
       "      <td>112.333333</td>\n",
       "      <td>37.666667</td>\n",
       "      <td>12334.333333</td>\n",
       "      <td>792.000000</td>\n",
       "      <td>558.000000</td>\n",
       "      <td>49.666667</td>\n",
       "      <td>49.000000</td>\n",
       "      <td>8048.333333</td>\n",
       "      <td>75.000000</td>\n",
       "    </tr>\n",
       "    <tr>\n",
       "      <th rowspan=\"4\" valign=\"top\">2.5</th>\n",
       "      <th>0.1</th>\n",
       "      <td>60.000000</td>\n",
       "      <td>90.000000</td>\n",
       "      <td>5207.000000</td>\n",
       "      <td>1236.333333</td>\n",
       "      <td>113.666667</td>\n",
       "      <td>45.000000</td>\n",
       "      <td>50.000000</td>\n",
       "      <td>2359.666667</td>\n",
       "      <td>22.333333</td>\n",
       "    </tr>\n",
       "    <tr>\n",
       "      <th>0.5</th>\n",
       "      <td>66.000000</td>\n",
       "      <td>84.000000</td>\n",
       "      <td>8107.333333</td>\n",
       "      <td>1152.333333</td>\n",
       "      <td>197.666667</td>\n",
       "      <td>45.333333</td>\n",
       "      <td>50.000000</td>\n",
       "      <td>3421.333333</td>\n",
       "      <td>30.000000</td>\n",
       "    </tr>\n",
       "    <tr>\n",
       "      <th>0.9</th>\n",
       "      <td>95.333333</td>\n",
       "      <td>54.666667</td>\n",
       "      <td>15411.000000</td>\n",
       "      <td>876.000000</td>\n",
       "      <td>474.000000</td>\n",
       "      <td>46.666667</td>\n",
       "      <td>50.000000</td>\n",
       "      <td>6347.000000</td>\n",
       "      <td>65.333333</td>\n",
       "    </tr>\n",
       "    <tr>\n",
       "      <th>1.0</th>\n",
       "      <td>110.333333</td>\n",
       "      <td>39.666667</td>\n",
       "      <td>17988.000000</td>\n",
       "      <td>787.333333</td>\n",
       "      <td>562.666667</td>\n",
       "      <td>48.666667</td>\n",
       "      <td>49.666667</td>\n",
       "      <td>7137.333333</td>\n",
       "      <td>76.000000</td>\n",
       "    </tr>\n",
       "    <tr>\n",
       "      <th rowspan=\"4\" valign=\"top\">5.0</th>\n",
       "      <th>0.1</th>\n",
       "      <td>60.000000</td>\n",
       "      <td>90.000000</td>\n",
       "      <td>5752.000000</td>\n",
       "      <td>1280.333333</td>\n",
       "      <td>69.666667</td>\n",
       "      <td>44.333333</td>\n",
       "      <td>50.000000</td>\n",
       "      <td>1343.333333</td>\n",
       "      <td>15.000000</td>\n",
       "    </tr>\n",
       "    <tr>\n",
       "      <th>0.5</th>\n",
       "      <td>64.000000</td>\n",
       "      <td>86.000000</td>\n",
       "      <td>9470.000000</td>\n",
       "      <td>1161.000000</td>\n",
       "      <td>189.000000</td>\n",
       "      <td>46.666667</td>\n",
       "      <td>50.000000</td>\n",
       "      <td>2057.666667</td>\n",
       "      <td>16.666667</td>\n",
       "    </tr>\n",
       "    <tr>\n",
       "      <th>0.9</th>\n",
       "      <td>94.666667</td>\n",
       "      <td>55.333333</td>\n",
       "      <td>22263.666667</td>\n",
       "      <td>826.333333</td>\n",
       "      <td>523.666667</td>\n",
       "      <td>45.666667</td>\n",
       "      <td>49.666667</td>\n",
       "      <td>4725.333333</td>\n",
       "      <td>51.666667</td>\n",
       "    </tr>\n",
       "    <tr>\n",
       "      <th>1.0</th>\n",
       "      <td>116.333333</td>\n",
       "      <td>33.666667</td>\n",
       "      <td>27036.333333</td>\n",
       "      <td>702.000000</td>\n",
       "      <td>648.000000</td>\n",
       "      <td>48.000000</td>\n",
       "      <td>50.000000</td>\n",
       "      <td>5540.666667</td>\n",
       "      <td>54.333333</td>\n",
       "    </tr>\n",
       "    <tr>\n",
       "      <th rowspan=\"4\" valign=\"top\">7.5</th>\n",
       "      <th>0.1</th>\n",
       "      <td>59.666667</td>\n",
       "      <td>90.333333</td>\n",
       "      <td>5937.666667</td>\n",
       "      <td>1295.000000</td>\n",
       "      <td>55.000000</td>\n",
       "      <td>44.666667</td>\n",
       "      <td>50.000000</td>\n",
       "      <td>988.666667</td>\n",
       "      <td>11.000000</td>\n",
       "    </tr>\n",
       "    <tr>\n",
       "      <th>0.5</th>\n",
       "      <td>66.333333</td>\n",
       "      <td>83.666667</td>\n",
       "      <td>10041.333333</td>\n",
       "      <td>1209.333333</td>\n",
       "      <td>140.666667</td>\n",
       "      <td>46.000000</td>\n",
       "      <td>50.000000</td>\n",
       "      <td>1471.666667</td>\n",
       "      <td>14.000000</td>\n",
       "    </tr>\n",
       "    <tr>\n",
       "      <th>0.9</th>\n",
       "      <td>98.666667</td>\n",
       "      <td>51.333333</td>\n",
       "      <td>26185.000000</td>\n",
       "      <td>812.000000</td>\n",
       "      <td>538.000000</td>\n",
       "      <td>47.333333</td>\n",
       "      <td>50.000000</td>\n",
       "      <td>3772.333333</td>\n",
       "      <td>36.000000</td>\n",
       "    </tr>\n",
       "    <tr>\n",
       "      <th>1.0</th>\n",
       "      <td>122.000000</td>\n",
       "      <td>28.000000</td>\n",
       "      <td>32484.000000</td>\n",
       "      <td>704.000000</td>\n",
       "      <td>646.000000</td>\n",
       "      <td>47.000000</td>\n",
       "      <td>49.333333</td>\n",
       "      <td>4486.000000</td>\n",
       "      <td>39.000000</td>\n",
       "    </tr>\n",
       "    <tr>\n",
       "      <th rowspan=\"4\" valign=\"top\">10.0</th>\n",
       "      <th>0.1</th>\n",
       "      <td>60.000000</td>\n",
       "      <td>90.000000</td>\n",
       "      <td>6058.666667</td>\n",
       "      <td>1315.000000</td>\n",
       "      <td>35.000000</td>\n",
       "      <td>44.666667</td>\n",
       "      <td>50.000000</td>\n",
       "      <td>753.333333</td>\n",
       "      <td>8.000000</td>\n",
       "    </tr>\n",
       "    <tr>\n",
       "      <th>0.5</th>\n",
       "      <td>63.333333</td>\n",
       "      <td>86.666667</td>\n",
       "      <td>10341.666667</td>\n",
       "      <td>1226.000000</td>\n",
       "      <td>124.000000</td>\n",
       "      <td>46.333333</td>\n",
       "      <td>50.000000</td>\n",
       "      <td>1144.666667</td>\n",
       "      <td>10.000000</td>\n",
       "    </tr>\n",
       "    <tr>\n",
       "      <th>0.9</th>\n",
       "      <td>94.333333</td>\n",
       "      <td>55.666667</td>\n",
       "      <td>28671.000000</td>\n",
       "      <td>831.333333</td>\n",
       "      <td>518.666667</td>\n",
       "      <td>45.666667</td>\n",
       "      <td>50.000000</td>\n",
       "      <td>3179.000000</td>\n",
       "      <td>32.666667</td>\n",
       "    </tr>\n",
       "    <tr>\n",
       "      <th>1.0</th>\n",
       "      <td>131.333333</td>\n",
       "      <td>18.666667</td>\n",
       "      <td>36006.000000</td>\n",
       "      <td>649.333333</td>\n",
       "      <td>700.666667</td>\n",
       "      <td>44.000000</td>\n",
       "      <td>49.333333</td>\n",
       "      <td>3774.000000</td>\n",
       "      <td>34.000000</td>\n",
       "    </tr>\n",
       "    <tr>\n",
       "      <th rowspan=\"4\" valign=\"top\">15.0</th>\n",
       "      <th>0.1</th>\n",
       "      <td>57.333333</td>\n",
       "      <td>92.666667</td>\n",
       "      <td>6168.333333</td>\n",
       "      <td>1300.000000</td>\n",
       "      <td>50.000000</td>\n",
       "      <td>44.000000</td>\n",
       "      <td>50.000000</td>\n",
       "      <td>536.000000</td>\n",
       "      <td>7.666667</td>\n",
       "    </tr>\n",
       "    <tr>\n",
       "      <th>0.5</th>\n",
       "      <td>61.666667</td>\n",
       "      <td>88.333333</td>\n",
       "      <td>10669.000000</td>\n",
       "      <td>1245.666667</td>\n",
       "      <td>104.333333</td>\n",
       "      <td>43.666667</td>\n",
       "      <td>50.000000</td>\n",
       "      <td>782.333333</td>\n",
       "      <td>6.000000</td>\n",
       "    </tr>\n",
       "    <tr>\n",
       "      <th>0.9</th>\n",
       "      <td>90.666667</td>\n",
       "      <td>59.333333</td>\n",
       "      <td>31897.666667</td>\n",
       "      <td>801.333333</td>\n",
       "      <td>548.666667</td>\n",
       "      <td>43.666667</td>\n",
       "      <td>50.000000</td>\n",
       "      <td>2372.666667</td>\n",
       "      <td>22.666667</td>\n",
       "    </tr>\n",
       "    <tr>\n",
       "      <th>1.0</th>\n",
       "      <td>127.333333</td>\n",
       "      <td>22.666667</td>\n",
       "      <td>40307.333333</td>\n",
       "      <td>612.333333</td>\n",
       "      <td>737.666667</td>\n",
       "      <td>46.666667</td>\n",
       "      <td>50.000000</td>\n",
       "      <td>2866.000000</td>\n",
       "      <td>26.333333</td>\n",
       "    </tr>\n",
       "    <tr>\n",
       "      <th rowspan=\"4\" valign=\"top\">25.0</th>\n",
       "      <th>0.1</th>\n",
       "      <td>63.333333</td>\n",
       "      <td>86.666667</td>\n",
       "      <td>6260.333333</td>\n",
       "      <td>1330.666667</td>\n",
       "      <td>19.333333</td>\n",
       "      <td>41.666667</td>\n",
       "      <td>50.000000</td>\n",
       "      <td>341.666667</td>\n",
       "      <td>3.666667</td>\n",
       "    </tr>\n",
       "    <tr>\n",
       "      <th>0.5</th>\n",
       "      <td>63.666667</td>\n",
       "      <td>86.333333</td>\n",
       "      <td>10944.333333</td>\n",
       "      <td>1250.666667</td>\n",
       "      <td>99.333333</td>\n",
       "      <td>45.333333</td>\n",
       "      <td>50.000000</td>\n",
       "      <td>497.666667</td>\n",
       "      <td>6.000000</td>\n",
       "    </tr>\n",
       "    <tr>\n",
       "      <th>0.9</th>\n",
       "      <td>90.666667</td>\n",
       "      <td>59.333333</td>\n",
       "      <td>35028.333333</td>\n",
       "      <td>792.666667</td>\n",
       "      <td>557.333333</td>\n",
       "      <td>43.666667</td>\n",
       "      <td>50.000000</td>\n",
       "      <td>1582.666667</td>\n",
       "      <td>15.000000</td>\n",
       "    </tr>\n",
       "    <tr>\n",
       "      <th>1.0</th>\n",
       "      <td>134.000000</td>\n",
       "      <td>16.000000</td>\n",
       "      <td>44524.333333</td>\n",
       "      <td>591.666667</td>\n",
       "      <td>758.333333</td>\n",
       "      <td>45.666667</td>\n",
       "      <td>50.000000</td>\n",
       "      <td>1956.666667</td>\n",
       "      <td>18.000000</td>\n",
       "    </tr>\n",
       "    <tr>\n",
       "      <th rowspan=\"4\" valign=\"top\">75.0</th>\n",
       "      <th>0.1</th>\n",
       "      <td>66.000000</td>\n",
       "      <td>84.000000</td>\n",
       "      <td>6351.666667</td>\n",
       "      <td>1343.000000</td>\n",
       "      <td>7.000000</td>\n",
       "      <td>43.000000</td>\n",
       "      <td>50.000000</td>\n",
       "      <td>150.666667</td>\n",
       "      <td>0.666667</td>\n",
       "    </tr>\n",
       "    <tr>\n",
       "      <th>0.5</th>\n",
       "      <td>61.333333</td>\n",
       "      <td>88.666667</td>\n",
       "      <td>11222.000000</td>\n",
       "      <td>1264.666667</td>\n",
       "      <td>85.333333</td>\n",
       "      <td>47.000000</td>\n",
       "      <td>50.000000</td>\n",
       "      <td>176.000000</td>\n",
       "      <td>1.666667</td>\n",
       "    </tr>\n",
       "    <tr>\n",
       "      <th>0.9</th>\n",
       "      <td>87.666667</td>\n",
       "      <td>62.333333</td>\n",
       "      <td>38808.666667</td>\n",
       "      <td>800.333333</td>\n",
       "      <td>549.666667</td>\n",
       "      <td>42.000000</td>\n",
       "      <td>50.000000</td>\n",
       "      <td>625.000000</td>\n",
       "      <td>5.666667</td>\n",
       "    </tr>\n",
       "    <tr>\n",
       "      <th>1.0</th>\n",
       "      <td>139.000000</td>\n",
       "      <td>11.000000</td>\n",
       "      <td>49756.000000</td>\n",
       "      <td>596.666667</td>\n",
       "      <td>753.333333</td>\n",
       "      <td>46.666667</td>\n",
       "      <td>49.666667</td>\n",
       "      <td>770.333333</td>\n",
       "      <td>6.666667</td>\n",
       "    </tr>\n",
       "    <tr>\n",
       "      <th rowspan=\"4\" valign=\"top\">100.0</th>\n",
       "      <th>0.1</th>\n",
       "      <td>65.000000</td>\n",
       "      <td>85.000000</td>\n",
       "      <td>6366.000000</td>\n",
       "      <td>1334.333333</td>\n",
       "      <td>15.666667</td>\n",
       "      <td>45.000000</td>\n",
       "      <td>50.000000</td>\n",
       "      <td>127.333333</td>\n",
       "      <td>0.666667</td>\n",
       "    </tr>\n",
       "    <tr>\n",
       "      <th>0.5</th>\n",
       "      <td>62.666667</td>\n",
       "      <td>87.333333</td>\n",
       "      <td>11267.333333</td>\n",
       "      <td>1253.333333</td>\n",
       "      <td>96.666667</td>\n",
       "      <td>46.333333</td>\n",
       "      <td>50.000000</td>\n",
       "      <td>144.333333</td>\n",
       "      <td>1.666667</td>\n",
       "    </tr>\n",
       "    <tr>\n",
       "      <th>0.9</th>\n",
       "      <td>92.333333</td>\n",
       "      <td>57.666667</td>\n",
       "      <td>39382.000000</td>\n",
       "      <td>799.666667</td>\n",
       "      <td>550.333333</td>\n",
       "      <td>42.333333</td>\n",
       "      <td>49.666667</td>\n",
       "      <td>469.666667</td>\n",
       "      <td>4.000000</td>\n",
       "    </tr>\n",
       "    <tr>\n",
       "      <th>1.0</th>\n",
       "      <td>140.666667</td>\n",
       "      <td>9.333333</td>\n",
       "      <td>50634.000000</td>\n",
       "      <td>570.666667</td>\n",
       "      <td>779.333333</td>\n",
       "      <td>43.666667</td>\n",
       "      <td>50.000000</td>\n",
       "      <td>560.333333</td>\n",
       "      <td>8.000000</td>\n",
       "    </tr>\n",
       "  </tbody>\n",
       "</table>\n",
       "</div>"
      ],
      "text/plain": [
       "species              ATA_charged  ATA_uncharged           GFP  TTT_charged  \\\n",
       "gfp_rbs_foldx codon                                                          \n",
       "1.0           0.1      65.333333      84.666667   4037.333333  1150.000000   \n",
       "              0.5      78.666667      71.333333   5580.333333  1058.333333   \n",
       "              0.9      96.000000      54.000000   8046.333333   838.333333   \n",
       "              1.0     108.333333      41.666667   8700.000000   832.000000   \n",
       "1.5           0.1      59.333333      90.666667   4624.000000  1175.000000   \n",
       "              0.5      80.000000      70.000000   6774.333333  1123.666667   \n",
       "              0.9      93.000000      57.000000  10939.000000   853.000000   \n",
       "              1.0     112.333333      37.666667  12334.333333   792.000000   \n",
       "2.5           0.1      60.000000      90.000000   5207.000000  1236.333333   \n",
       "              0.5      66.000000      84.000000   8107.333333  1152.333333   \n",
       "              0.9      95.333333      54.666667  15411.000000   876.000000   \n",
       "              1.0     110.333333      39.666667  17988.000000   787.333333   \n",
       "5.0           0.1      60.000000      90.000000   5752.000000  1280.333333   \n",
       "              0.5      64.000000      86.000000   9470.000000  1161.000000   \n",
       "              0.9      94.666667      55.333333  22263.666667   826.333333   \n",
       "              1.0     116.333333      33.666667  27036.333333   702.000000   \n",
       "7.5           0.1      59.666667      90.333333   5937.666667  1295.000000   \n",
       "              0.5      66.333333      83.666667  10041.333333  1209.333333   \n",
       "              0.9      98.666667      51.333333  26185.000000   812.000000   \n",
       "              1.0     122.000000      28.000000  32484.000000   704.000000   \n",
       "10.0          0.1      60.000000      90.000000   6058.666667  1315.000000   \n",
       "              0.5      63.333333      86.666667  10341.666667  1226.000000   \n",
       "              0.9      94.333333      55.666667  28671.000000   831.333333   \n",
       "              1.0     131.333333      18.666667  36006.000000   649.333333   \n",
       "15.0          0.1      57.333333      92.666667   6168.333333  1300.000000   \n",
       "              0.5      61.666667      88.333333  10669.000000  1245.666667   \n",
       "              0.9      90.666667      59.333333  31897.666667   801.333333   \n",
       "              1.0     127.333333      22.666667  40307.333333   612.333333   \n",
       "25.0          0.1      63.333333      86.666667   6260.333333  1330.666667   \n",
       "              0.5      63.666667      86.333333  10944.333333  1250.666667   \n",
       "              0.9      90.666667      59.333333  35028.333333   792.666667   \n",
       "              1.0     134.000000      16.000000  44524.333333   591.666667   \n",
       "75.0          0.1      66.000000      84.000000   6351.666667  1343.000000   \n",
       "              0.5      61.333333      88.666667  11222.000000  1264.666667   \n",
       "              0.9      87.666667      62.333333  38808.666667   800.333333   \n",
       "              1.0     139.000000      11.000000  49756.000000   596.666667   \n",
       "100.0         0.1      65.000000      85.000000   6366.000000  1334.333333   \n",
       "              0.5      62.666667      87.333333  11267.333333  1253.333333   \n",
       "              0.9      92.333333      57.666667  39382.000000   799.666667   \n",
       "              1.0     140.666667       9.333333  50634.000000   570.666667   \n",
       "\n",
       "species              TTT_uncharged  __GFP_rbs  __cellularProtein_rbs  \\\n",
       "gfp_rbs_foldx codon                                                    \n",
       "1.0           0.1       200.000000  46.000000              50.000000   \n",
       "              0.5       291.666667  48.333333              49.666667   \n",
       "              0.9       511.666667  47.666667              48.666667   \n",
       "              1.0       518.000000  49.000000              50.000000   \n",
       "1.5           0.1       175.000000  45.666667              49.666667   \n",
       "              0.5       226.333333  48.333333              49.666667   \n",
       "              0.9       497.000000  47.333333              49.666667   \n",
       "              1.0       558.000000  49.666667              49.000000   \n",
       "2.5           0.1       113.666667  45.000000              50.000000   \n",
       "              0.5       197.666667  45.333333              50.000000   \n",
       "              0.9       474.000000  46.666667              50.000000   \n",
       "              1.0       562.666667  48.666667              49.666667   \n",
       "5.0           0.1        69.666667  44.333333              50.000000   \n",
       "              0.5       189.000000  46.666667              50.000000   \n",
       "              0.9       523.666667  45.666667              49.666667   \n",
       "              1.0       648.000000  48.000000              50.000000   \n",
       "7.5           0.1        55.000000  44.666667              50.000000   \n",
       "              0.5       140.666667  46.000000              50.000000   \n",
       "              0.9       538.000000  47.333333              50.000000   \n",
       "              1.0       646.000000  47.000000              49.333333   \n",
       "10.0          0.1        35.000000  44.666667              50.000000   \n",
       "              0.5       124.000000  46.333333              50.000000   \n",
       "              0.9       518.666667  45.666667              50.000000   \n",
       "              1.0       700.666667  44.000000              49.333333   \n",
       "15.0          0.1        50.000000  44.000000              50.000000   \n",
       "              0.5       104.333333  43.666667              50.000000   \n",
       "              0.9       548.666667  43.666667              50.000000   \n",
       "              1.0       737.666667  46.666667              50.000000   \n",
       "25.0          0.1        19.333333  41.666667              50.000000   \n",
       "              0.5        99.333333  45.333333              50.000000   \n",
       "              0.9       557.333333  43.666667              50.000000   \n",
       "              1.0       758.333333  45.666667              50.000000   \n",
       "75.0          0.1         7.000000  43.000000              50.000000   \n",
       "              0.5        85.333333  47.000000              50.000000   \n",
       "              0.9       549.666667  42.000000              50.000000   \n",
       "              1.0       753.333333  46.666667              49.666667   \n",
       "100.0         0.1        15.666667  45.000000              50.000000   \n",
       "              0.5        96.666667  46.333333              50.000000   \n",
       "              0.9       550.333333  42.333333              49.666667   \n",
       "              1.0       779.333333  43.666667              50.000000   \n",
       "\n",
       "species              cellularProtein  free ribosome  \n",
       "gfp_rbs_foldx codon                                  \n",
       "1.0           0.1        4431.333333      47.333333  \n",
       "              0.5        5739.666667      54.666667  \n",
       "              0.9        8044.666667      75.666667  \n",
       "              1.0        8630.000000      87.333333  \n",
       "1.5           0.1        3430.666667      32.000000  \n",
       "              0.5        4677.333333      51.333333  \n",
       "              0.9        7402.666667      74.000000  \n",
       "              1.0        8048.333333      75.000000  \n",
       "2.5           0.1        2359.666667      22.333333  \n",
       "              0.5        3421.333333      30.000000  \n",
       "              0.9        6347.000000      65.333333  \n",
       "              1.0        7137.333333      76.000000  \n",
       "5.0           0.1        1343.333333      15.000000  \n",
       "              0.5        2057.666667      16.666667  \n",
       "              0.9        4725.333333      51.666667  \n",
       "              1.0        5540.666667      54.333333  \n",
       "7.5           0.1         988.666667      11.000000  \n",
       "              0.5        1471.666667      14.000000  \n",
       "              0.9        3772.333333      36.000000  \n",
       "              1.0        4486.000000      39.000000  \n",
       "10.0          0.1         753.333333       8.000000  \n",
       "              0.5        1144.666667      10.000000  \n",
       "              0.9        3179.000000      32.666667  \n",
       "              1.0        3774.000000      34.000000  \n",
       "15.0          0.1         536.000000       7.666667  \n",
       "              0.5         782.333333       6.000000  \n",
       "              0.9        2372.666667      22.666667  \n",
       "              1.0        2866.000000      26.333333  \n",
       "25.0          0.1         341.666667       3.666667  \n",
       "              0.5         497.666667       6.000000  \n",
       "              0.9        1582.666667      15.000000  \n",
       "              1.0        1956.666667      18.000000  \n",
       "75.0          0.1         150.666667       0.666667  \n",
       "              0.5         176.000000       1.666667  \n",
       "              0.9         625.000000       5.666667  \n",
       "              1.0         770.333333       6.666667  \n",
       "100.0         0.1         127.333333       0.666667  \n",
       "              0.5         144.333333       1.666667  \n",
       "              0.9         469.666667       4.000000  \n",
       "              1.0         560.333333       8.000000  "
      ]
     },
     "execution_count": 240,
     "metadata": {},
     "output_type": "execute_result"
    }
   ],
   "source": [
    "df = df_master[(df_master.copy_number == 50)]\n",
    "df[\"gfp_rbs_foldx\"] = df[\"gfp_rbs\"] / ecol_rbs_rate\n",
    "#df = df[(df.species == \"cellularProtein\") | (df.species == \"GFP\")]\n",
    "df = df.pivot_table(index=['gfp_rbs_foldx', 'codon'], columns='species', values='protein')\n",
    "df"
   ]
  },
  {
   "cell_type": "code",
   "execution_count": 241,
   "id": "ee521fba-ffa9-4774-99ba-52849215c471",
   "metadata": {},
   "outputs": [],
   "source": [
    "df[\"TTT_charged\"] = df[\"TTT_charged\"] / 1350\n",
    "df[\"ATA_charged\"] = df[\"ATA_charged\"] / 150\n",
    "df[\"free ribosome\"] = df[\"free ribosome\"] / 300"
   ]
  },
  {
   "cell_type": "code",
   "execution_count": 242,
   "id": "cea3c738-126f-439a-a508-7658261af0a7",
   "metadata": {},
   "outputs": [
    {
     "data": {
      "text/plain": [
       "<matplotlib.legend.Legend at 0x7fdac5f79190>"
      ]
     },
     "execution_count": 242,
     "metadata": {},
     "output_type": "execute_result"
    },
    {
     "data": {
      "image/png": "[encoded data removed]",
      "text/plain": [
       "<Figure size 504x288 with 1 Axes>"
      ]
     },
     "metadata": {
      "needs_background": "light"
     },
     "output_type": "display_data"
    }
   ],
   "source": [
    "sns.scatterplot(data=df, x = \"GFP\", y = \"cellularProtein\", hue = \"codon\", s=40)\n",
    "#plt.xscale(\"log\")\n",
    "plt.xlabel(\"GFP expression\")\n",
    "plt.ylabel(\"Background gene expression\")\n",
    "#plt.legend(title=\"Fraction preferred\\ncodons (transgene)\")\n",
    "handles, labels = plt.gca().get_legend_handles_labels()\n",
    "plt.legend(reversed(handles), reversed(labels), title=\"Fraction preferred codons\", loc=\"lower right\")"
   ]
  },
  {
   "cell_type": "code",
   "execution_count": 246,
   "id": "076a0325-a6d9-483e-a554-d44527daf77d",
   "metadata": {},
   "outputs": [
    {
     "data": {
      "text/plain": [
       "<matplotlib.legend.Legend at 0x7fdac5dc9bb0>"
      ]
     },
     "execution_count": 246,
     "metadata": {},
     "output_type": "execute_result"
    },
    {
     "data": {
      "image/png": "[encoded data removed]",
      "text/plain": [
       "<Figure size 504x288 with 1 Axes>"
      ]
     },
     "metadata": {
      "needs_background": "light"
     },
     "output_type": "display_data"
    }
   ],
   "source": [
    "g = sns.lineplot(data=df, x = \"gfp_rbs_foldx\", y = \"free ribosome\", hue = \"codon\", linewidth=2.5)\n",
    "plt.xscale(\"log\")\n",
    "plt.xlabel(\"GFP RBS fold-change\")\n",
    "plt.ylabel(\"Free ribosomes (% total)\")\n",
    "#plt.legend(title=\"Fraction preferred\\ncodons (transgene)\")\n",
    "handles, labels = plt.gca().get_legend_handles_labels()\n",
    "plt.legend(reversed(handles), reversed(labels), title=\"Fraction preferred codons\", loc=\"lower left\")\n",
    "#g.set_xticklabels(['0', '0', '2', '4', '6', '8', '10'])"
   ]
  },
  {
   "cell_type": "code",
   "execution_count": 244,
   "id": "ba158f06-f068-4722-bbc7-229c62f6bb4b",
   "metadata": {},
   "outputs": [
    {
     "data": {
      "text/plain": [
       "<matplotlib.legend.Legend at 0x7fdac60afb20>"
      ]
     },
     "execution_count": 244,
     "metadata": {},
     "output_type": "execute_result"
    },
    {
     "data": {
      "image/png": "[encoded data removed]",
      "text/plain": [
       "<Figure size 504x288 with 1 Axes>"
      ]
     },
     "metadata": {
      "needs_background": "light"
     },
     "output_type": "display_data"
    }
   ],
   "source": [
    "g = sns.lineplot(data=df, x = \"gfp_rbs_foldx\", y = \"ATA_charged\", hue = \"codon\", linewidth=2.5)\n",
    "#plt.xscale(\"log\")\n",
    "plt.xlabel(\"GFP RBS fold-change\")\n",
    "plt.ylabel(\"Charged rare tRNA (% total)\")\n",
    "#plt.legend(title=\"Fraction preferred\\ncodons (transgene)\")\n",
    "handles, labels = plt.gca().get_legend_handles_labels()\n",
    "plt.legend(reversed(handles), reversed(labels), title=\"Fraction preferred codons\", loc=\"upper right\")\n",
    "#g.set_xticklabels(['0', '0', '2', '4', '6', '8', '10'])"
   ]
  },
  {
   "cell_type": "code",
   "execution_count": 245,
   "id": "71b5d4ab-74f4-47de-aafd-744f75d4f829",
   "metadata": {},
   "outputs": [
    {
     "data": {
      "text/plain": [
       "<matplotlib.legend.Legend at 0x7fdac5e29760>"
      ]
     },
     "execution_count": 245,
     "metadata": {},
     "output_type": "execute_result"
    },
    {
     "data": {
      "image/png": "[encoded data removed]",
      "text/plain": [
       "<Figure size 504x288 with 1 Axes>"
      ]
     },
     "metadata": {
      "needs_background": "light"
     },
     "output_type": "display_data"
    }
   ],
   "source": [
    "g = sns.lineplot(data=df, x = \"gfp_rbs_foldx\", y = \"TTT_charged\", hue = \"codon\", linewidth=2.5)\n",
    "#plt.xscale(\"log\")\n",
    "plt.xlabel(\"GFP RBS fold-change\")\n",
    "plt.ylabel(\"Charged preferred tRNA (% total)\")\n",
    "#plt.legend(title=\"Fraction preferred\\ncodons (transgene)\")\n",
    "handles, labels = plt.gca().get_legend_handles_labels()\n",
    "plt.legend(reversed(handles), reversed(labels), title=\"Fraction preferred codons\", loc=\"upper right\")\n",
    "#g.set_xticklabels(['0', '0', '2', '4', '6', '8', '10'])"
   ]
  },
  {
   "cell_type": "code",
   "execution_count": null,
   "id": "e42c582d-5492-4d94-992b-78b8dde5288e",
   "metadata": {},
   "outputs": [],
   "source": []
  }
 ],
 "metadata": {
  "kernelspec": {
   "display_name": "Python 3 (ipykernel)",
   "language": "python",
   "name": "python3"
  },
  "language_info": {
   "codemirror_mode": {
    "name": "ipython",
    "version": 3
   },
   "file_extension": ".py",
   "mimetype": "text/x-python",
   "name": "python",
   "nbconvert_exporter": "python",
   "pygments_lexer": "ipython3",
   "version": "3.8.12"
  }
 },
 "nbformat": 4,
 "nbformat_minor": 5
}
