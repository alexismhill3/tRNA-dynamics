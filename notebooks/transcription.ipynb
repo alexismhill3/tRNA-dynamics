{
 "cells": [
  {
   "cell_type": "code",
   "execution_count": 40,
   "id": "4e33660e-3ee3-4c47-96f2-25a468e28355",
   "metadata": {},
   "outputs": [],
   "source": [
    "from IPython.display import display, HTML\n",
    "import numpy as np\n",
    "import pandas as pd\n",
    "import seaborn as sns\n",
    "from matplotlib import rcParams\n",
    "import matplotlib.pyplot as plt"
   ]
  },
  {
   "cell_type": "markdown",
   "id": "6360cc9d-e5c0-4bc4-a8ae-68127b25e280",
   "metadata": {},
   "source": [
    "\\begin{align}\n",
    "\\frac{pol_{bound}}{len}\\ & = pol_{free} * k_{bind}\\\\\n",
    "\\frac{pol_{bound}}{len}\\ & = (pol_{tot} - pol_{bound}) * k_{bind} \\\\\n",
    "\\frac{pol_{bound}}{len}\\ & = pol_{tot}k_{bind} - pol_{bound}k_{bind} \\\\\n",
    "\\frac{pol_{bound}}{len}\\ + pol_{bound}k_{bind} & = pol_{tot}k_{bind} \\\\\n",
    "pol_{bound}(\\frac{1}{len}\\ + k_{bind}) & = pol_{tot}k_{bind} \\\\\n",
    "pol_{bound} & = \\frac{pol_{tot}k_{bind}}{\\frac{1}{len}\\ + k_{bind}}\\ \\\\\n",
    "\\end{align} "
   ]
  },
  {
   "cell_type": "markdown",
   "id": "288113af-3675-4e36-a432-4536f76dde34",
   "metadata": {},
   "source": [
    "\\begin{align}\n",
    "\\frac{pol_{bound}}{len}\\ & = pol_{free} * k_{bind}\\\\\n",
    "\\frac{pol_{bound}}{len}\\ & = (pol_{tot} - pol_{bound}) * k_{bind} \\\\\n",
    "pol_{bound} & = \\frac{pol_{tot}k_{bind}}{\\frac{1}{len}\\ + k_{bind}}\\ \n",
    "\\end{align} "
   ]
  },
  {
   "cell_type": "code",
   "execution_count": 41,
   "id": "7edf6310-ae03-4953-83f3-bd2a4af20a01",
   "metadata": {},
   "outputs": [],
   "source": [
    "# simulation parameters\n",
    "POL_TOT = 10 # total polymerases in the simulation\n",
    "LEN = 450 # length of gene"
   ]
  },
  {
   "cell_type": "code",
   "execution_count": 33,
   "id": "69e5638a-5c03-45ad-8169-75c5def5c1bc",
   "metadata": {},
   "outputs": [],
   "source": [
    "# ave. bound polymerases in simulations at steady-state\n",
    "df = pd.read_csv(\"../processed_data/polymerases.csv\")"
   ]
  },
  {
   "cell_type": "code",
   "execution_count": 42,
   "id": "dacb04a6-a366-4392-a8f6-80af7e0da208",
   "metadata": {},
   "outputs": [],
   "source": [
    "# analytical solution for steady-state bound polymerases\n",
    "def f(rate, LEN):\n",
    "    AVOGADRO = 6.02214076e23\n",
    "    VOLUME = 8e-16\n",
    "    meso_rate = rate / (AVOGADRO * VOLUME)\n",
    "    return (POL_TOT * meso_rate) / ((1 / LEN) + meso_rate)"
   ]
  },
  {
   "cell_type": "code",
   "execution_count": 45,
   "id": "365db2fe-870e-4630-9a93-4163322d543a",
   "metadata": {},
   "outputs": [
    {
     "data": {
      "text/plain": [
       "[<matplotlib.lines.Line2D at 0x7fb6c89642e0>]"
      ]
     },
     "execution_count": 45,
     "metadata": {},
     "output_type": "execute_result"
    },
    {
     "data": {
      "image/png": "[encoded data removed]",
      "text/plain": [
       "<Figure size 432x288 with 1 Axes>"
      ]
     },
     "metadata": {},
     "output_type": "display_data"
    }
   ],
   "source": [
    "r1 = np.arange(2e5, 2e7, 1e4)\n",
    "sns.set_theme(style=\"ticks\", palette=None)\n",
    "#sns.scatterplot(data=df, x = \"rate\", y = \"pol\", s = 60)\n",
    "plt.xlabel(\"binding rate\")\n",
    "plt.ylabel(\"bound pol\")\n",
    "plt.plot(r1, f(r1, 450), 'k--')\n",
    "plt.plot(r1, f(r1, 100), 'r--')\n",
    "plt.plot(r1, f(r1, 1000), 'b--')"
   ]
  },
  {
   "cell_type": "code",
   "execution_count": null,
   "id": "1e124fc7-815d-493f-9622-7b33b122235d",
   "metadata": {},
   "outputs": [],
   "source": []
  }
 ],
 "metadata": {
  "kernelspec": {
   "display_name": "Python 3 (ipykernel)",
   "language": "python",
   "name": "python3"
  },
  "language_info": {
   "codemirror_mode": {
    "name": "ipython",
    "version": 3
   },
   "file_extension": ".py",
   "mimetype": "text/x-python",
   "name": "python",
   "nbconvert_exporter": "python",
   "pygments_lexer": "ipython3",
   "version": "3.8.12"
  }
 },
 "nbformat": 4,
 "nbformat_minor": 5
}
