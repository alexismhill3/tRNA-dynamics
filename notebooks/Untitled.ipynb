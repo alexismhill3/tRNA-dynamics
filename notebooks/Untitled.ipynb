{
 "cells": [
  {
   "cell_type": "code",
   "execution_count": 1,
   "id": "d5864d93-9e00-46ff-91c0-6e71b3d18a25",
   "metadata": {},
   "outputs": [],
   "source": [
    "from trnasimtools.serialize import SerializeTwoCodonMultiTranscript\n",
    "import os"
   ]
  },
  {
   "cell_type": "code",
   "execution_count": 2,
   "id": "3c922381-4d24-4428-9c6c-a4c7a715dd9e",
   "metadata": {},
   "outputs": [],
   "source": [
    "from IPython.display import display, HTML\n",
    "import numpy as np\n",
    "import pandas as pd\n",
    "import seaborn as sns\n",
    "from matplotlib import rcParams\n",
    "import matplotlib.pyplot as plt\n",
    "from matplotlib.colors import LogNorm\n",
    "%matplotlib inline"
   ]
  },
  {
   "cell_type": "markdown",
   "id": "99de4bef-b2d3-44b9-b497-ff3da5657fa3",
   "metadata": {},
   "source": [
    "In Kudla et al. 2009 (Coding-sequence determinants..) the authors postulate that \"the correspondance between codon adaptation and expression level among e. coli genes arrises to make expression more efficient at a global level [under resource rich conditions]\", since rapid elongation sequesters fewer ribosomes, resulting in higher protein synthesis. \n",
    "\n",
    "My goal here is to look at this with my simple models, since (as far as I can tell) no one has looked at this quantitatively, which seems odd. We'll create a rudimentary aproximation of an E. coli cell, with two transcript populations: one highly optimized, highly expressed (high initiation rate), representing \"core\" genes, and one with modest optimation and a lower initiation rate, representing accessory/non-essential genes. In this scenario, we'll skew tRNA abundances to match the codon use of the highly optimized population.\n",
    "\n",
    "We'll contrast this with a second scenario; we'll keep the same initation rates, but we'll make codon use uniform across both populations, with no skew in tRNA abundances. We ask if scenario one really results in greater protein synthesis. "
   ]
  },
  {
   "cell_type": "code",
   "execution_count": 1,
   "id": "35ff4cf1-371f-40d2-89b3-5af179e490ed",
   "metadata": {},
   "outputs": [],
   "source": [
    "#!mkdir ../yaml/july-29-2022\n",
    "#!mkdir ../output/july-29-2022"
   ]
  },
  {
   "cell_type": "code",
   "execution_count": 3,
   "id": "9dfaba50-9868-4562-8703-03f383d296c8",
   "metadata": {},
   "outputs": [],
   "source": [
    "RB_COPY = 100\n",
    "TS_COPY = [100, 100]\n",
    "RBS_STRENGTH = [10000.0, 5000.0]\n",
    "TRNA_CHRG_RATES = [100.0, 100.0]\n",
    "TRNA_PROPORTIONS = (0.9, 0.1)\n",
    "TOTAL_TRNA = 100\n",
    "TIME_LIMIT = 50\n",
    "TIME_STEP = 5\n",
    "SEED = 1\n",
    "\n",
    "# simulation parameters, common\n",
    "time_limit = 500\n",
    "time_step = 5\n",
    "transcript_len = 100\n",
    "transcript_copy_numbers = [50, 50]\n",
    "ribosome_copy_number = 100\n",
    "total_trna = 100\n",
    "trna_charging_rate = 1000000.0\n",
    "\n",
    "codon_comps_1 = [(0.8, 0.2), (0.2, 0.8)]\n",
    "ribosome_binding_rates_1 = [100000.0, 10000.0]\n",
    "trna_props_1 = (0.8, 0.2)\n",
    "\n",
    "codon_comps_2 = [(0.5, 0.5), (0.5, 0.5)]\n",
    "ribosome_binding_rates_2 = [100000.0, 10000.0]\n",
    "trna_props_2 = (0.5, 0.5)"
   ]
  },
  {
   "cell_type": "code",
   "execution_count": null,
   "id": "cd77c154-fab4-4afb-bf1e-d875036871cb",
   "metadata": {},
   "outputs": [],
   "source": []
  }
 ],
 "metadata": {
  "kernelspec": {
   "display_name": "Python 3 (ipykernel)",
   "language": "python",
   "name": "python3"
  },
  "language_info": {
   "codemirror_mode": {
    "name": "ipython",
    "version": 3
   },
   "file_extension": ".py",
   "mimetype": "text/x-python",
   "name": "python",
   "nbconvert_exporter": "python",
   "pygments_lexer": "ipython3",
   "version": "3.8.10"
  }
 },
 "nbformat": 4,
 "nbformat_minor": 5
}
