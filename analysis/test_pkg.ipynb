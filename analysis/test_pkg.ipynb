{
 "cells": [
  {
   "cell_type": "code",
   "execution_count": 1,
   "id": "8ad9e52e-d8c5-4b03-a576-ba3104c2d472",
   "metadata": {},
   "outputs": [],
   "source": [
    "from trnasimtools.configure import TwoCodonSingleTranscript"
   ]
  },
  {
   "cell_type": "code",
   "execution_count": 2,
   "id": "fbe06374-feac-4c11-8510-14281c2a7082",
   "metadata": {},
   "outputs": [],
   "source": [
    "# parameters to write to yaml\n",
    "\n",
    "trna_rates = {\"ATA\": 100.0, \"TTT\": 100.0}\n",
    "trna_map = {\"AAA\": [\"TTT\"], \"TAT\": [\"ATA\"]}\n",
    "trna_odds = {\"TTT\": 55, \"ATA\": 45}\n",
    "time_limit = 1200\n",
    "time_step =  5.0\n",
    "transcripts = 200\n",
    "\n",
    "writer = TwoCodonSingleTranscript(100, (0.9, 0.1), trna_odds, trna_rates=trna_rates, trna_map=trna_map, \\\n",
    "                                  time_limit=time_limit, time_step=time_step, transcripts=transcripts)\n",
    "writer.serialize(\"../output/test_yaml_writer\")"
   ]
  },
  {
   "cell_type": "code",
   "execution_count": null,
   "id": "6e7ef2bd-af73-4b45-95a6-796a5e9d19ed",
   "metadata": {},
   "outputs": [],
   "source": []
  }
 ],
 "metadata": {
  "kernelspec": {
   "display_name": "Python 3 (ipykernel)",
   "language": "python",
   "name": "python3"
  },
  "language_info": {
   "codemirror_mode": {
    "name": "ipython",
    "version": 3
   },
   "file_extension": ".py",
   "mimetype": "text/x-python",
   "name": "python",
   "nbconvert_exporter": "python",
   "pygments_lexer": "ipython3",
   "version": "3.8.10"
  }
 },
 "nbformat": 4,
 "nbformat_minor": 5
}
